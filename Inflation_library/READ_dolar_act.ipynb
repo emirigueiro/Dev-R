{
 "cells": [
  {
   "cell_type": "code",
   "execution_count": 148,
   "metadata": {},
   "outputs": [],
   "source": [
    "import clickhouse_connect\n",
    "import pandas as pd\n",
    "import numpy as np\n",
    "import calendar\n",
    "import datetime\n",
    "from datetime import datetime, timedelta\n",
    "\n",
    "client = clickhouse_connect.get_client(host='h4ht169yky.us-central1.gcp.clickhouse.cloud', port=8443, username='default', password='_J8EZmEnKUcq0')\n",
    "\n",
    "result = client.query('SELECT * FROM dolar_act')\n",
    "result.result_rows\n",
    "Out[13]: [(2000, -50.9035)]"
   ]
  },
  {
   "cell_type": "markdown",
   "metadata": {},
   "source": [
    "# Realizamos la importacion de la base de datos actualizada desde ClckHouse"
   ]
  },
  {
   "cell_type": "code",
   "execution_count": 149,
   "metadata": {},
   "outputs": [],
   "source": [
    "client = clickhouse_connect.get_client(host='h4ht169yky.us-central1.gcp.clickhouse.cloud', port=8443, username='default', password='_J8EZmEnKUcq0')\n",
    "\n",
    "result = client.query('SELECT * FROM dolar_act')\n",
    "result.result_rows\n",
    "Out[13]: [(2000, -50.9035)]"
   ]
  },
  {
   "cell_type": "markdown",
   "metadata": {},
   "source": [
    "# ETL para normalizar el nombre de las columnas de la base de origen, tipos de datos y caracteres especiales."
   ]
  },
  {
   "cell_type": "code",
   "execution_count": 150,
   "metadata": {},
   "outputs": [
    {
     "data": {
      "text/html": [
       "<div>\n",
       "<style scoped>\n",
       "    .dataframe tbody tr th:only-of-type {\n",
       "        vertical-align: middle;\n",
       "    }\n",
       "\n",
       "    .dataframe tbody tr th {\n",
       "        vertical-align: top;\n",
       "    }\n",
       "\n",
       "    .dataframe thead th {\n",
       "        text-align: right;\n",
       "    }\n",
       "</style>\n",
       "<table border=\"1\" class=\"dataframe\">\n",
       "  <thead>\n",
       "    <tr style=\"text-align: right;\">\n",
       "      <th></th>\n",
       "      <th>fecha</th>\n",
       "      <th>hora</th>\n",
       "      <th>am_pm</th>\n",
       "      <th>blue_compra</th>\n",
       "      <th>oficial_compra</th>\n",
       "      <th>bolsa_compra</th>\n",
       "      <th>contado_liqui_compra</th>\n",
       "      <th>crypto_compra</th>\n",
       "      <th>blue_venta</th>\n",
       "      <th>oficial_venta</th>\n",
       "      <th>bolsa_venta</th>\n",
       "      <th>contado_liqui_venta</th>\n",
       "      <th>crypto_venta</th>\n",
       "      <th>solidario_venta</th>\n",
       "      <th>hora_2</th>\n",
       "      <th>dia</th>\n",
       "      <th>ano</th>\n",
       "      <th>mes</th>\n",
       "      <th>fecha_ano_mes_dia</th>\n",
       "      <th>fecha_ano_mes_dia_hora</th>\n",
       "    </tr>\n",
       "  </thead>\n",
       "  <tbody>\n",
       "    <tr>\n",
       "      <th>305</th>\n",
       "      <td>05/11/23</td>\n",
       "      <td>12:51</td>\n",
       "      <td>P</td>\n",
       "      <td>905.0</td>\n",
       "      <td>348.96</td>\n",
       "      <td>839.7</td>\n",
       "      <td>856.7</td>\n",
       "      <td>864.0</td>\n",
       "      <td>925.0</td>\n",
       "      <td>368.6</td>\n",
       "      <td>844.0</td>\n",
       "      <td>840.95</td>\n",
       "      <td>875</td>\n",
       "      <td>639.63</td>\n",
       "      <td>1900-01-02 00:51:00</td>\n",
       "      <td>05</td>\n",
       "      <td>2023</td>\n",
       "      <td>11</td>\n",
       "      <td>20231105</td>\n",
       "      <td>202311051900-01-02 00:51:00</td>\n",
       "    </tr>\n",
       "  </tbody>\n",
       "</table>\n",
       "</div>"
      ],
      "text/plain": [
       "        fecha   hora am_pm  blue_compra  oficial_compra  bolsa_compra  \\\n",
       "305  05/11/23  12:51     P        905.0          348.96         839.7   \n",
       "\n",
       "     contado_liqui_compra  crypto_compra  blue_venta  oficial_venta  \\\n",
       "305                 856.7          864.0       925.0          368.6   \n",
       "\n",
       "     bolsa_venta  contado_liqui_venta  crypto_venta  solidario_venta  \\\n",
       "305        844.0               840.95           875           639.63   \n",
       "\n",
       "                  hora_2 dia   ano mes fecha_ano_mes_dia  \\\n",
       "305  1900-01-02 00:51:00  05  2023  11          20231105   \n",
       "\n",
       "          fecha_ano_mes_dia_hora  \n",
       "305  202311051900-01-02 00:51:00  "
      ]
     },
     "execution_count": 150,
     "metadata": {},
     "output_type": "execute_result"
    }
   ],
   "source": [
    "Dolar = pd.DataFrame(result.result_rows)\n",
    "\n",
    "nuevos_nombres = {\n",
    "    0: 'fecha',\n",
    "    1: 'hora',\n",
    "    2: 'am_pm',\n",
    "    3: 'blue_compra',\n",
    "    4: 'oficial_compra',\n",
    "    5: 'bolsa_compra',\n",
    "    6: 'contado_liqui_compra',\n",
    "    7: 'crypto_compra',\n",
    "    8: 'blue_venta',\n",
    "    9: 'oficial_venta',\n",
    "    10: 'bolsa_venta',\n",
    "    11: 'contado_liqui_venta',\n",
    "    12: 'crypto_venta',\n",
    "    13: 'solidario_venta'\n",
    "}\n",
    "\n",
    "Dolar = Dolar.rename(columns=nuevos_nombres)\n",
    "\n",
    "Dolar['crypto_venta'] = Dolar['crypto_venta'].astype(int)\n",
    "\n",
    "Dolar['hora_2'] = Dolar['hora'].apply(lambda x: datetime.strptime(x, '%H:%M'))\n",
    "\n",
    "Dolar['hora_2'] = Dolar.apply(lambda row: row['hora_2'] + timedelta(hours=12) if row['am_pm'] == 'P' else row['hora_2'], axis=1)\n",
    "\n",
    "Dolar['hora_2'] = Dolar['hora_2'].astype(str)\n",
    "\n",
    "\n",
    "Dolar['dia'] = Dolar['fecha'].str[:2] #Va\n",
    "\n",
    "Dolar['ano'] = Dolar['fecha'].str[6:] #Va\n",
    "Dolar['ano'] = '20' + Dolar['ano'] #Va\n",
    "\n",
    "Dolar['mes'] = Dolar['fecha'].str[3:5]\n",
    "\n",
    "Dolar['fecha_ano_mes_dia'] = Dolar['ano'] + Dolar['mes'] + Dolar['dia']\n",
    "Dolar['fecha_ano_mes_dia_hora'] = Dolar['fecha_ano_mes_dia'] + Dolar['hora_2'] \n",
    "\n",
    "\n",
    "Dolar = Dolar.sort_values(by='fecha_ano_mes_dia_hora', ascending=True)\n",
    "Dolar.tail(1)\n"
   ]
  },
  {
   "cell_type": "code",
   "execution_count": 151,
   "metadata": {},
   "outputs": [
    {
     "name": "stdout",
     "output_type": "stream",
     "text": [
      "fecha                      object\n",
      "hora                       object\n",
      "am_pm                      object\n",
      "blue_compra               float64\n",
      "oficial_compra            float64\n",
      "bolsa_compra              float64\n",
      "contado_liqui_compra      float64\n",
      "crypto_compra             float64\n",
      "blue_venta                float64\n",
      "oficial_venta             float64\n",
      "bolsa_venta               float64\n",
      "contado_liqui_venta       float64\n",
      "crypto_venta                int32\n",
      "solidario_venta           float64\n",
      "hora_2                     object\n",
      "dia                        object\n",
      "ano                        object\n",
      "mes                        object\n",
      "fecha_ano_mes_dia          object\n",
      "fecha_ano_mes_dia_hora     object\n",
      "dtype: object\n"
     ]
    }
   ],
   "source": [
    "print(Dolar.dtypes)"
   ]
  },
  {
   "cell_type": "markdown",
   "metadata": {},
   "source": [
    "# Proceso para forecasting:"
   ]
  },
  {
   "cell_type": "code",
   "execution_count": 152,
   "metadata": {},
   "outputs": [],
   "source": [
    "x = Dolar['fecha_ano_mes_dia_hora'].values\n",
    "y = Dolar['crypto_venta'].values"
   ]
  },
  {
   "cell_type": "code",
   "execution_count": 153,
   "metadata": {},
   "outputs": [
    {
     "ename": "TypeError",
     "evalue": "can only concatenate str (not \"float\") to str",
     "output_type": "error",
     "traceback": [
      "\u001b[1;31m---------------------------------------------------------------------------\u001b[0m",
      "\u001b[1;31mTypeError\u001b[0m                                 Traceback (most recent call last)",
      "\u001b[1;32mc:\\Users\\Emi\\Documents\\GitHub\\Dev-R\\Inflation_library\\READ_dolar_act.ipynb Cell 9\u001b[0m line \u001b[0;36m3\n\u001b[0;32m      <a href='vscode-notebook-cell:/c%3A/Users/Emi/Documents/GitHub/Dev-R/Inflation_library/READ_dolar_act.ipynb#X11sZmlsZQ%3D%3D?line=0'>1</a>\u001b[0m prediccion \u001b[39m=\u001b[39m\u001b[39m202310311147\u001b[39m\n\u001b[0;32m      <a href='vscode-notebook-cell:/c%3A/Users/Emi/Documents/GitHub/Dev-R/Inflation_library/READ_dolar_act.ipynb#X11sZmlsZQ%3D%3D?line=1'>2</a>\u001b[0m \u001b[39mfor\u001b[39;00m i \u001b[39min\u001b[39;00m \u001b[39mrange\u001b[39m(\u001b[39m0\u001b[39m, \u001b[39m2\u001b[39m):\n\u001b[1;32m----> <a href='vscode-notebook-cell:/c%3A/Users/Emi/Documents/GitHub/Dev-R/Inflation_library/READ_dolar_act.ipynb#X11sZmlsZQ%3D%3D?line=2'>3</a>\u001b[0m    coef \u001b[39m=\u001b[39m np\u001b[39m.\u001b[39;49mpolyfit(x, y, i)\n\u001b[0;32m      <a href='vscode-notebook-cell:/c%3A/Users/Emi/Documents/GitHub/Dev-R/Inflation_library/READ_dolar_act.ipynb#X11sZmlsZQ%3D%3D?line=3'>4</a>\u001b[0m    p \u001b[39m=\u001b[39m np\u001b[39m.\u001b[39mpolyval(coef, prediccion )\n\u001b[0;32m      <a href='vscode-notebook-cell:/c%3A/Users/Emi/Documents/GitHub/Dev-R/Inflation_library/READ_dolar_act.ipynb#X11sZmlsZQ%3D%3D?line=4'>5</a>\u001b[0m    \u001b[39mprint\u001b[39m(p)\n",
      "File \u001b[1;32mc:\\Users\\Emi\\AppData\\Local\\Programs\\Python\\Python311\\Lib\\site-packages\\numpy\\lib\\polynomial.py:630\u001b[0m, in \u001b[0;36mpolyfit\u001b[1;34m(x, y, deg, rcond, full, w, cov)\u001b[0m\n\u001b[0;32m    455\u001b[0m \u001b[39m\u001b[39m\u001b[39m\"\"\"\u001b[39;00m\n\u001b[0;32m    456\u001b[0m \u001b[39mLeast squares polynomial fit.\u001b[39;00m\n\u001b[0;32m    457\u001b[0m \n\u001b[1;32m   (...)\u001b[0m\n\u001b[0;32m    627\u001b[0m \n\u001b[0;32m    628\u001b[0m \u001b[39m\"\"\"\u001b[39;00m\n\u001b[0;32m    629\u001b[0m order \u001b[39m=\u001b[39m \u001b[39mint\u001b[39m(deg) \u001b[39m+\u001b[39m \u001b[39m1\u001b[39m\n\u001b[1;32m--> 630\u001b[0m x \u001b[39m=\u001b[39m NX\u001b[39m.\u001b[39;49masarray(x) \u001b[39m+\u001b[39;49m \u001b[39m0.0\u001b[39;49m\n\u001b[0;32m    631\u001b[0m y \u001b[39m=\u001b[39m NX\u001b[39m.\u001b[39masarray(y) \u001b[39m+\u001b[39m \u001b[39m0.0\u001b[39m\n\u001b[0;32m    633\u001b[0m \u001b[39m# check arguments.\u001b[39;00m\n",
      "\u001b[1;31mTypeError\u001b[0m: can only concatenate str (not \"float\") to str"
     ]
    }
   ],
   "source": [
    "prediccion =202310311147\n",
    "for i in range(0, 2):\n",
    "   coef = np.polyfit(x, y, i)\n",
    "   p = np.polyval(coef, prediccion )\n",
    "   print(p)"
   ]
  },
  {
   "cell_type": "code",
   "execution_count": null,
   "metadata": {},
   "outputs": [
    {
     "name": "stdout",
     "output_type": "stream",
     "text": [
      "Fecha de dentro de 30 días: 2023-12-05\n"
     ]
    }
   ],
   "source": [
    "import calendar\n",
    "import datetime\n",
    "\n",
    "# Obtén la fecha actual\n",
    "today = datetime.date.today()\n",
    "\n",
    "# Suma 30 días a la fecha actual\n",
    "date_in_30_days = today + datetime.timedelta(days=30)\n",
    "\n",
    "print(\"Fecha de dentro de 30 días:\", date_in_30_days)"
   ]
  }
 ],
 "metadata": {
  "kernelspec": {
   "display_name": "Python 3",
   "language": "python",
   "name": "python3"
  },
  "language_info": {
   "codemirror_mode": {
    "name": "ipython",
    "version": 3
   },
   "file_extension": ".py",
   "mimetype": "text/x-python",
   "name": "python",
   "nbconvert_exporter": "python",
   "pygments_lexer": "ipython3",
   "version": "3.11.3"
  }
 },
 "nbformat": 4,
 "nbformat_minor": 2
}
