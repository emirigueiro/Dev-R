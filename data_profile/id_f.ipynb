{
 "cells": [
  {
   "cell_type": "code",
   "execution_count": 44,
   "metadata": {},
   "outputs": [],
   "source": [
    "import pandas as pd\n",
    "import numpy as np\n",
    "import re\n",
    "import primary_f"
   ]
  },
  {
   "cell_type": "code",
   "execution_count": 45,
   "metadata": {},
   "outputs": [],
   "source": [
    "# Lectura del CSV y guardado en una variable\n",
    "def READ_CSV(x):\n",
    "    return pd.read_csv(x, sep=\",\", encoding='latin-1')\n",
    "\n",
    "FILE = READ_CSV('altas_bajas_3.csv')\n",
    "\n",
    "# Guardo los emails en una sola colimna de un DF\n",
    "FILE_DF = pd.DataFrame()"
   ]
  },
  {
   "cell_type": "code",
   "execution_count": 46,
   "metadata": {},
   "outputs": [],
   "source": [
    "#Indentify of the column name cotain this regular expresion: \"ID\"\n",
    "def id_list(x):\n",
    "    column_list = x.columns\n",
    "    patron = re.compile(r\"ID\", re.IGNORECASE)\n",
    "    resultados = []   \n",
    "    \n",
    "    for y in column_list:\n",
    "        if re.search(patron, str(y)): \n",
    "           resultados.append(True)\n",
    "        else:\n",
    "            resultados.append(False)\n",
    "            \n",
    "    return(resultados)"
   ]
  },
  {
   "cell_type": "code",
   "execution_count": 47,
   "metadata": {},
   "outputs": [],
   "source": [
    "def id_probability(x):\n",
    "    id_re = [0 if is_id else 1 for is_id in id_list(x)]\n",
    "    count_rows = primary_f.r_count(x)\n",
    "    count_distinct_rows = primary_f.r_count_distinct(x)\n",
    "\n",
    "    unique_and_distincts = [1 if x1 != x2 else 0 for x1, x2 in zip(count_rows, count_distinct_rows)]\n",
    "    empty_rows = [1 if x > 0 else 0 for x in primary_f.r_empty(x)]\n",
    "    null_rows = [1 if x > 0 else 0 for x in primary_f.is_null(x)]\n",
    "\n",
    "    # Imprimir longitudes para depuración\n",
    "    print(f\"Lengths - id_re: {len(id_re)}, unique_and_distincts: {len(unique_and_distincts)}, empty_rows: {len(empty_rows)}, null_rows: {len(null_rows)}\")\n",
    "\n",
    "    lengths = [len(id_re), len(unique_and_distincts), len(empty_rows), len(null_rows)]\n",
    "    if len(set(lengths)) != 1:\n",
    "        raise ValueError(f\"Mismatch in lengths: {lengths}\")\n",
    "\n",
    "    percent_unique_1 = [(x2 / x1 * 100) if x1 > 0 else 0 for x1, x2 in zip(count_rows, count_distinct_rows)]\n",
    "\n",
    "    percent_unique_2 = []\n",
    "    for x in percent_unique_1:\n",
    "        if x >= 90.1:\n",
    "            percent_unique_2.append(0)\n",
    "        elif x >= 50.1:\n",
    "            percent_unique_2.append(1)\n",
    "        elif x >= 20.1:\n",
    "            percent_unique_2.append(2)\n",
    "        else:\n",
    "            percent_unique_2.append(3)\n",
    "\n",
    "    final = pd.DataFrame({\n",
    "        'id_re': id_re,\n",
    "        'unique_and_distincts': unique_and_distincts,\n",
    "        'empty_rows': empty_rows,\n",
    "        'null_rows': null_rows,\n",
    "        'percent_unique': percent_unique_2\n",
    "    })\n",
    "\n",
    "    final_2 = final.sum(axis=1)\n",
    "\n",
    "    id_quality = []\n",
    "    for x in final_2:\n",
    "        if x == 0:\n",
    "            id_quality.append('100%')\n",
    "        elif x == 1:\n",
    "            id_quality.append('75%')\n",
    "        elif x == 2:\n",
    "            id_quality.append('50%')\n",
    "        else:\n",
    "            id_quality.append('0%')\n",
    "\n",
    "    return id_quality\n",
    "\n"
   ]
  },
  {
   "cell_type": "code",
   "execution_count": 48,
   "metadata": {},
   "outputs": [
    {
     "name": "stdout",
     "output_type": "stream",
     "text": [
      "Lengths - id_re: 83, unique_and_distincts: 82, empty_rows: 83, null_rows: 83\n"
     ]
    },
    {
     "ename": "ValueError",
     "evalue": "Mismatch in lengths: [83, 82, 83, 83]",
     "output_type": "error",
     "traceback": [
      "\u001b[1;31m---------------------------------------------------------------------------\u001b[0m",
      "\u001b[1;31mValueError\u001b[0m                                Traceback (most recent call last)",
      "Cell \u001b[1;32mIn[48], line 1\u001b[0m\n\u001b[1;32m----> 1\u001b[0m \u001b[38;5;28mprint\u001b[39m(\u001b[43mid_probability\u001b[49m\u001b[43m(\u001b[49m\u001b[43mFILE\u001b[49m\u001b[43m)\u001b[49m)\n",
      "Cell \u001b[1;32mIn[47], line 15\u001b[0m, in \u001b[0;36mid_probability\u001b[1;34m(x)\u001b[0m\n\u001b[0;32m     13\u001b[0m lengths \u001b[38;5;241m=\u001b[39m [\u001b[38;5;28mlen\u001b[39m(id_re), \u001b[38;5;28mlen\u001b[39m(unique_and_distincts), \u001b[38;5;28mlen\u001b[39m(empty_rows), \u001b[38;5;28mlen\u001b[39m(null_rows)]\n\u001b[0;32m     14\u001b[0m \u001b[38;5;28;01mif\u001b[39;00m \u001b[38;5;28mlen\u001b[39m(\u001b[38;5;28mset\u001b[39m(lengths)) \u001b[38;5;241m!=\u001b[39m \u001b[38;5;241m1\u001b[39m:\n\u001b[1;32m---> 15\u001b[0m     \u001b[38;5;28;01mraise\u001b[39;00m \u001b[38;5;167;01mValueError\u001b[39;00m(\u001b[38;5;124mf\u001b[39m\u001b[38;5;124m\"\u001b[39m\u001b[38;5;124mMismatch in lengths: \u001b[39m\u001b[38;5;132;01m{\u001b[39;00mlengths\u001b[38;5;132;01m}\u001b[39;00m\u001b[38;5;124m\"\u001b[39m)\n\u001b[0;32m     17\u001b[0m percent_unique_1 \u001b[38;5;241m=\u001b[39m [(x2 \u001b[38;5;241m/\u001b[39m x1 \u001b[38;5;241m*\u001b[39m \u001b[38;5;241m100\u001b[39m) \u001b[38;5;28;01mif\u001b[39;00m x1 \u001b[38;5;241m>\u001b[39m \u001b[38;5;241m0\u001b[39m \u001b[38;5;28;01melse\u001b[39;00m \u001b[38;5;241m0\u001b[39m \u001b[38;5;28;01mfor\u001b[39;00m x1, x2 \u001b[38;5;129;01min\u001b[39;00m \u001b[38;5;28mzip\u001b[39m(count_rows, count_distinct_rows)]\n\u001b[0;32m     19\u001b[0m percent_unique_2 \u001b[38;5;241m=\u001b[39m []\n",
      "\u001b[1;31mValueError\u001b[0m: Mismatch in lengths: [83, 82, 83, 83]"
     ]
    }
   ],
   "source": [
    "print(id_probability(FILE))"
   ]
  }
 ],
 "metadata": {
  "kernelspec": {
   "display_name": "Python 3",
   "language": "python",
   "name": "python3"
  },
  "language_info": {
   "codemirror_mode": {
    "name": "ipython",
    "version": 3
   },
   "file_extension": ".py",
   "mimetype": "text/x-python",
   "name": "python",
   "nbconvert_exporter": "python",
   "pygments_lexer": "ipython3",
   "version": "3.12.3"
  }
 },
 "nbformat": 4,
 "nbformat_minor": 2
}
