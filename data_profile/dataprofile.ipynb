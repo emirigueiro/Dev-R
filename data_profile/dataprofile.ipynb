{
 "cells": [
  {
   "cell_type": "code",
   "execution_count": 1,
   "metadata": {},
   "outputs": [],
   "source": [
    "import pandas as pd\n",
    "from prettytable import PrettyTable\n",
    "\n",
    "import id_f as id_f\n",
    "import email_f as email_f\n",
    "import primary_f as primary_f"
   ]
  },
  {
   "cell_type": "code",
   "execution_count": 2,
   "metadata": {},
   "outputs": [],
   "source": [
    "# Lectura del CSV y guardado en una variable\n",
    "def READ_CSV(x):\n",
    "    return pd.read_csv(x, sep=\",\", encoding='latin-1')\n",
    "\n",
    "FILE = READ_CSV('base-primer-relev-dispositivos.csv')\n",
    "\n",
    "# Guardo los emails en una sola colimna de un DF\n",
    "FILE_DF = pd.DataFrame()\n"
   ]
  },
  {
   "cell_type": "markdown",
   "metadata": {},
   "source": [
    "1) The first step is install the library using pip instal dataprofile:\n",
    "```bash:\n",
    "   pip install dataprofile"
   ]
  },
  {
   "cell_type": "code",
   "execution_count": 1,
   "metadata": {},
   "outputs": [],
   "source": [
    "def profiledate_fuction (x):\n",
    "\n",
    "    profile_date =                     pd.DataFrame(columns=['columns'])\n",
    "    profile_date['columns'] =          pd.Series(primary_f.column_list(x))\n",
    "    profile_date['count'] =            pd.Series(primary_f.r_count(x))\n",
    "    profile_date['unique'] =           pd.Series(primary_f.r_count_distinct(x))\n",
    "    profile_date['unique_%'] =         pd.Series(primary_f.r_count_distinct_percent(x))\n",
    "    profile_date['id_probabilty'] =    pd.Series(id_f.id_probability(x))\n",
    "    profile_date['email_probabilty'] = pd.Series(email_f.email_probability(x))\n",
    "    profile_date['duplicate'] =        profile_date['count'] - profile_date['unique']\n",
    "    profile_date['numeric'] =          pd.Series(primary_f.is_numeric(x))\n",
    "    profile_date['letter'] =           pd.Series(primary_f.is_letter(x))\n",
    "    profile_date['bool'] =             pd.Series(primary_f.is_bool(x))\n",
    "    profile_date['empty'] =            pd.Series(primary_f.r_empty(x))\n",
    "    profile_date['empty_%'] =          pd.Series(primary_f.empty_percent(x))\n",
    "    profile_date['cero'] =             pd.Series(primary_f.r_cero(x))\n",
    "    profile_date['cero_%'] =           pd.Series(primary_f.r_cero_percent(x))\n",
    "    profile_date['null'] =             pd.Series(primary_f.is_null(x))\n",
    "    profile_date['null_%'] =           pd.Series(primary_f.is_null_percent(x))\n",
    "\n",
    "    x = PrettyTable()\n",
    "    x.field_names = profile_date.columns.tolist()\n",
    "    for row in profile_date.itertuples(index=False):\n",
    "        x.add_row(row)\n",
    "\n",
    "    return x\n",
    "\n",
    "\n",
    "def profiledate (x):\n",
    "    try:\n",
    "        # Verificar si es un DataFrame\n",
    "        if isinstance(x, pd.DataFrame):\n",
    "            return profiledate_fuction (x)\n",
    "        else:\n",
    "            return \"El archivo no es un DataFrame.\"\n",
    "    except Exception as e:\n",
    "        # Si ocurre un error, probablemente no es un archivo adecuado para ser un DataFrame\n",
    "        return f\"Error: {e}. El archivo no es un DataFrame válido.\""
   ]
  },
  {
   "cell_type": "markdown",
   "metadata": {},
   "source": [
    "1) The first step is install the library using pip instal dataprofile:\n",
    "```python\n",
    "pip install dataprofile"
   ]
  },
  {
   "cell_type": "code",
   "execution_count": 2,
   "metadata": {},
   "outputs": [
    {
     "ename": "NameError",
     "evalue": "name 'FILE' is not defined",
     "output_type": "error",
     "traceback": [
      "\u001b[1;31m---------------------------------------------------------------------------\u001b[0m",
      "\u001b[1;31mNameError\u001b[0m                                 Traceback (most recent call last)",
      "Cell \u001b[1;32mIn[2], line 1\u001b[0m\n\u001b[1;32m----> 1\u001b[0m \u001b[38;5;28mprint\u001b[39m(profiledate(\u001b[43mFILE\u001b[49m))\n",
      "\u001b[1;31mNameError\u001b[0m: name 'FILE' is not defined"
     ]
    }
   ],
   "source": [
    "print(profiledate(FILE))"
   ]
  }
 ],
 "metadata": {
  "kernelspec": {
   "display_name": "Python 3",
   "language": "python",
   "name": "python3"
  },
  "language_info": {
   "codemirror_mode": {
    "name": "ipython",
    "version": 3
   },
   "file_extension": ".py",
   "mimetype": "text/x-python",
   "name": "python",
   "nbconvert_exporter": "python",
   "pygments_lexer": "ipython3",
   "version": "3.12.3"
  }
 },
 "nbformat": 4,
 "nbformat_minor": 2
}
