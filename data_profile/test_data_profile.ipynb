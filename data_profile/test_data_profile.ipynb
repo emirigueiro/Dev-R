{
 "cells": [
  {
   "cell_type": "code",
   "execution_count": 1,
   "metadata": {},
   "outputs": [],
   "source": [
    "import pandas as pd\n",
    "import dataprofile as dp"
   ]
  },
  {
   "cell_type": "code",
   "execution_count": 2,
   "metadata": {},
   "outputs": [],
   "source": [
    "# Lectura del CSV y guardado en una variable\n",
    "def READ_CSV(x):\n",
    "    return pd.read_csv(x, delimiter=\",\", encoding='latin-1')\n",
    "\n",
    "FILE = READ_CSV('altas_bajas_3.csv')\n",
    "\n",
    "# Guardo los emails en una sola colimna de un DF\n",
    "FILE_DF = pd.DataFrame(FILE)"
   ]
  },
  {
   "cell_type": "code",
   "execution_count": 3,
   "metadata": {},
   "outputs": [
    {
     "name": "stdout",
     "output_type": "stream",
     "text": [
      "+-------------------------------+-------+--------+----------+-----------+---------+--------+-------+-------+---------+------+--------+------+--------+\n",
      "|            columns            | count | unique | unique_% | duplicate | numeric | letter |  bool | empty | empty_% | cero | cero_% | null | null_% |\n",
      "+-------------------------------+-------+--------+----------+-----------+---------+--------+-------+-------+---------+------+--------+------+--------+\n",
      "|          num_pol_tia          |  958  | 579.0  |   60%    |   379.0   |   True  | False  | False |   0   |    0%   |  0   |   0%   |  0   |   0%   |\n",
      "|            num_pol            |  958  | 588.0  |   61%    |   370.0   |  False  | False  | False |   0   |    0%   |  0   |   0%   |  0   |   0%   |\n",
      "|         policy_seq_no         |  958  | 764.0  |   79%    |   194.0   |   True  | False  | False |   0   |    0%   |  0   |   0%   |  0   |   0%   |\n",
      "|            trans_id           |  958  | 764.0  |   79%    |   194.0   |   True  | False  | False |   0   |    0%   |  0   |   0%   |  0   |   0%   |\n",
      "|             newest            |  958  |  1.0   |    0%    |   957.0   |  False  |  True  | False |   0   |    0%   |  0   |   0%   | 457  |  47%   |\n",
      "|            prod_id            |  958  |  4.0   |    0%    |   954.0   |  False  | False  | False |   0   |    0%   |  0   |   0%   |  0   |   0%   |\n",
      "|           secc_prod           |  958  |  3.0   |    0%    |   955.0   |  False  |  True  | False |   0   |    0%   |  0   |   0%   |  0   |   0%   |\n",
      "|           desc_prod           |  958  |  3.0   |    0%    |   955.0   |  False  | False  | False |   0   |    0%   |  0   |   0%   |  0   |   0%   |\n",
      "|         cod_ult_trans         |  958  |  3.0   |    0%    |   955.0   |  False  |  True  | False |   0   |    0%   |  0   |   0%   |  12  |   1%   |\n",
      "|         desc_ult_trans        |  958  |  3.0   |    0%    |   955.0   |  False  | False  | False |   0   |    0%   |  0   |   0%   |  12  |   1%   |\n",
      "|            Fec_emi            |  958  | 253.0  |   26%    |   705.0   |  False  | False  | False |   0   |    0%   |  0   |   0%   |  0   |   0%   |\n",
      "|         fec_inicio_vig        |  958  | 280.0  |   29%    |   678.0   |  False  | False  | False |   0   |    0%   |  0   |   0%   |  0   |   0%   |\n",
      "|      fec_prox_renovacion      |  958  | 272.0  |   28%    |   686.0   |  False  | False  | False |   0   |    0%   |  0   |   0%   |  0   |   0%   |\n",
      "|          fec_fin_vig          |  958  | 364.0  |   37%    |   594.0   |  False  | False  | False |   0   |    0%   |  0   |   0%   |  0   |   0%   |\n",
      "|         observaciones         |  958  |  98.0  |   10%    |   860.0   |  False  | False  | False |   0   |    0%   |  0   |   0%   | 817  |  85%   |\n",
      "|          flg_ult_mov          |  958  |  1.0   |    0%    |   957.0   |  False  |  True  | False |   0   |    0%   |  0   |   0%   | 457  |  47%   |\n",
      "|            fec_baja           |  958  | 124.0  |   12%    |   834.0   |  False  | False  | False |   0   |    0%   |  0   |   0%   | 672  |  70%   |\n",
      "|            cod_baja           |  958  |  9.0   |    0%    |   949.0   |   True  | False  | False |   0   |    0%   |  0   |   0%   |  0   |   0%   |\n",
      "|         desc_mot_baja         |  958  |  9.0   |    0%    |   949.0   |  False  | False  | False |   0   |    0%   |  0   |   0%   |  0   |   0%   |\n",
      "|         fec_movimiento        |  958  | 608.0  |   63%    |   350.0   |  False  | False  | False |   0   |    0%   |  0   |   0%   |  0   |   0%   |\n",
      "|             id_cli            |  958  | 454.0  |   47%    |   504.0   |   True  | False  | False |   0   |    0%   |  0   |   0%   |  0   |   0%   |\n",
      "|     tipo_documento_tomador    |  958  |  2.0   |    0%    |   956.0   |  False  |  True  |  True |   0   |    0%   |  0   |   0%   |  0   |   0%   |\n",
      "|     num_documento_tomador     |  958  | 406.0  |   42%    |   552.0   |  False  | False  | False |   0   |    0%   |  0   |   0%   | 121  |  12%   |\n",
      "|           nombre_cli          |  958  | 452.0  |   47%    |   506.0   |  False  | False  | False |   0   |    0%   |  0   |   0%   |  0   |   0%   |\n",
      "|           provincia           |  958  | 158.0  |   16%    |   800.0   |  False  | False  | False |   0   |    0%   |  0   |   0%   |  28  |   2%   |\n",
      "|           localidad           |  958  |  71.0  |    7%    |   887.0   |  False  |  True  | False |   0   |    0%   |  0   |   0%   |  77  |   8%   |\n",
      "|           actividad           |  958  | 148.0  |   15%    |   810.0   |  False  | False  | False |   7   |    0%   |  0   |   0%   |  28  |   2%   |\n",
      "|              iva              |  958  |  7.0   |    0%    |   951.0   |  False  | False  | False |   0   |    0%   |  0   |   0%   |  28  |   2%   |\n",
      "|              iibb             |  958  |  3.0   |    0%    |   955.0   |  False  |  True  | False |   0   |    0%   |  0   |   0%   |  28  |   2%   |\n",
      "|         fec_renovacion        |  958  | 272.0  |   28%    |   686.0   |  False  | False  | False |   0   |    0%   |  0   |   0%   |  0   |   0%   |\n",
      "|           cod_endoso          |  958  |  2.0   |    0%    |   956.0   |  False  | False  |  True |   0   |    0%   |  0   |   0%   | 672  |  70%   |\n",
      "|          desc_endoso          |  958  |  1.0   |    0%    |   957.0   |  False  | False  | False |   0   |    0%   |  0   |   0%   | 700  |  73%   |\n",
      "|        desc_forma_cobro       |  958  |  2.0   |    0%    |   956.0   |  False  |  True  |  True |   0   |    0%   |  0   |   0%   |  0   |   0%   |\n",
      "|          premio_total         |  958  | 522.0  |   54%    |   436.0   |  False  | False  | False |   0   |    0%   |  0   |   0%   | 262  |  27%   |\n",
      "|       recargo_financiero      |  958  | 512.0  |   53%    |   446.0   |  False  | False  | False |   0   |    0%   |  0   |   0%   | 262  |  27%   |\n",
      "|      impuestos_tb_policy      |  958  | 522.0  |   54%    |   436.0   |  False  | False  | False |   0   |    0%   |  0   |   0%   | 262  |  27%   |\n",
      "|             prima             |  958  | 520.0  |   54%    |   438.0   |  False  | False  | False |   0   |    0%   |  0   |   0%   | 262  |  27%   |\n",
      "|            cod_plan           |  958  |  12.0  |    1%    |   946.0   |   True  | False  | False |   0   |    0%   |  0   |   0%   |  0   |   0%   |\n",
      "|         cod_agrupador         |  958  |  9.0   |    0%    |   949.0   |  False  | False  | False |   0   |    0%   |  0   |   0%   | 897  |  93%   |\n",
      "|            cod_prod           |  958  |  9.0   |    0%    |   949.0   |  False  | False  | False |   0   |    0%   |  0   |   0%   | 897  |  93%   |\n",
      "|          desc_prod_1          |  958  |  9.0   |    0%    |   949.0   |  False  | False  | False |   0   |    0%   |  0   |   0%   | 892  |  93%   |\n",
      "|       desc_cod_productor      |  958  |  8.0   |    0%    |   950.0   |  False  | False  | False |   0   |    0%   |  0   |   0%   | 899  |  93%   |\n",
      "|            cod_suc            |  958  |  48.0  |    5%    |   910.0   |   True  | False  | False |   0   |    0%   |  0   |   0%   |  0   |   0%   |\n",
      "|        cod_suc_emi_pola       |  958  |  44.0  |    4%    |   914.0   |  False  | False  | False |   0   |    0%   |  0   |   0%   |  17  |   1%   |\n",
      "|        flg_centralizada       |  958  |  2.0   |    0%    |   956.0   |   True  | False  |  True |   0   |    0%   |  0   |   0%   |  0   |   0%   |\n",
      "|          desc_suc_emi         |  958  |  46.0  |    4%    |   912.0   |  False  | False  | False |   0   |    0%   |  0   |   0%   |  4   |   0%   |\n",
      "|            user_emi           |  958  |  73.0  |    7%    |   885.0   |  False  | False  | False |   0   |    0%   |  0   |   0%   |  0   |   0%   |\n",
      "|          plan_cuotas          |  958  |  7.0   |    0%    |   951.0   |  False  | False  | False |   0   |    0%   |  0   |   0%   |  0   |   0%   |\n",
      "|           cant_dias           |  958  | 125.0  |   13%    |   833.0   |   True  | False  | False |   0   |    0%   |  0   |   0%   |  0   |   0%   |\n",
      "|            flg_alta           |  958  |  2.0   |    0%    |   956.0   |   True  | False  |  True |   0   |    0%   |  0   |   0%   |  0   |   0%   |\n",
      "|           flg_endoso          |  958  |  2.0   |    0%    |   956.0   |   True  | False  |  True |   0   |    0%   |  0   |   0%   |  0   |   0%   |\n",
      "|         flg_cotizacion        |  958  |  1.0   |    0%    |   957.0   |   True  | False  | False |   0   |    0%   |  0   |   0%   |  0   |   0%   |\n",
      "|            flg_vig            |  958  |  2.0   |    0%    |   956.0   |   True  | False  |  True |   0   |    0%   |  0   |   0%   |  0   |   0%   |\n",
      "|            flg_baja           |  958  |  2.0   |    0%    |   956.0   |   True  | False  |  True |   0   |    0%   |  0   |   0%   |  0   |   0%   |\n",
      "|         flg_alta_retro        |  958  |  2.0   |    0%    |   956.0   |   True  | False  |  True |   0   |    0%   |  0   |   0%   |  0   |   0%   |\n",
      "|         flg_baja_retro        |  958  |  2.0   |    0%    |   956.0   |   True  | False  |  True |   0   |    0%   |  0   |   0%   |  0   |   0%   |\n",
      "|         flg_mov_retro         |  958  |  2.0   |    0%    |   956.0   |   True  | False  |  True |   0   |    0%   |  0   |   0%   |  0   |   0%   |\n",
      "|       flg_rehabilitacion      |  958  |  1.0   |    0%    |   957.0   |   True  | False  | False |   0   |    0%   |  0   |   0%   |  0   |   0%   |\n",
      "|         cod_movimiento        |  958  |  4.0   |    0%    |   954.0   |   True  | False  | False |   0   |    0%   |  0   |   0%   |  0   |   0%   |\n",
      "|            flg_test           |  958  |  2.0   |    0%    |   956.0   |   True  | False  |  True |   0   |    0%   |  0   |   0%   |  0   |   0%   |\n",
      "|         flg_alta_baja         |  958  |  2.0   |    0%    |   956.0   |   True  | False  |  True |   0   |    0%   |  0   |   0%   |  0   |   0%   |\n",
      "|          flg_espuria          |  958  |  2.0   |    0%    |   956.0   |   True  | False  |  True |   0   |    0%   |  0   |   0%   |  0   |   0%   |\n",
      "|       flg_vig_menor_emi       |  958  |  1.0   |    0%    |   957.0   |   True  | False  | False |   0   |    0%   |  0   |   0%   |  0   |   0%   |\n",
      "|         tipo_canal_emi        |  958  |  2.0   |    0%    |   956.0   |  False  |  True  |  True |   0   |    0%   |  0   |   0%   |  0   |   0%   |\n",
      "|           canal_emi           |  958  |  3.0   |    0%    |   955.0   |  False  |  True  | False |   0   |    0%   |  0   |   0%   |  0   |   0%   |\n",
      "|          prima_diaria         |  958  | 544.0  |   56%    |   414.0   |   True  | False  | False |   0   |    0%   |  0   |   0%   |  0   |   0%   |\n",
      "|         num_renovacion        |  958  |  3.0   |    0%    |   955.0   |   True  | False  | False |   0   |    0%   |  0   |   0%   |  0   |   0%   |\n",
      "|         flg_renovacion        |  958  |  2.0   |    0%    |   956.0   |   True  | False  |  True |   0   |    0%   |  0   |   0%   |  0   |   0%   |\n",
      "|          num_pol_ori          |  958  | 566.0  |   59%    |   392.0   |  False  | False  | False |   0   |    0%   |  0   |   0%   |  12  |   1%   |\n",
      "|         impuestos_obj         |  958  | 559.0  |   58%    |   399.0   |   True  | False  | False |   0   |    0%   |  0   |   0%   |  0   |   0%   |\n",
      "|           Comisiones          |  958  |  36.0  |    3%    |   922.0   |   True  | False  | False |   0   |    0%   |  0   |   0%   |  0   |   0%   |\n",
      "| cod_actividad_establecimiento |  958  | 119.0  |   12%    |   839.0   |  False  | False  | False |   0   |    0%   |  0   |   0%   |  7   |   0%   |\n",
      "|   actividad_establecimiento   |  958  | 113.0  |   11%    |   845.0   |  False  | False  | False |   0   |    0%   |  0   |   0%   | 108  |  11%   |\n",
      "|        cod_tipo_riesgo        |  958  |  10.0  |    1%    |   948.0   |  False  | False  | False |   0   |    0%   |  0   |   0%   |  42  |   4%   |\n",
      "|          tipo_riesgo          |  958  |  9.0   |    0%    |   949.0   |  False  | False  | False |   0   |    0%   |  0   |   0%   | 108  |  11%   |\n",
      "|         detalle_riesgo        |  958  | 383.0  |   39%    |   575.0   |  False  | False  | False |   0   |    0%   |  0   |   0%   | 108  |  11%   |\n",
      "|       codigo_postal_zona      |  958  | 221.0  |   23%    |   737.0   |  False  | False  | False |   0   |    0%   |  0   |   0%   | 108  |  11%   |\n",
      "|         cod_mat_const         |  958  |  4.0   |    0%    |   954.0   |  False  | False  | False |   0   |    0%   |  0   |   0%   |  42  |   4%   |\n",
      "|           mat_const           |  958  |  3.0   |    0%    |   955.0   |  False  | False  | False |   0   |    0%   |  0   |   0%   | 108  |  11%   |\n",
      "|         mts_cuadrados         |  958  | 100.0  |   10%    |   858.0   |  False  | False  | False |   0   |    0%   |  0   |   0%   | 108  |  11%   |\n",
      "|        cesion_derechos        |  958  |  1.0   |    0%    |   957.0   |  False  |  True  | False |   0   |    0%   |  0   |   0%   | 958  |  100%  |\n",
      "|  cant_ascensores_montacargas  |  958  |  8.0   |    0%    |   950.0   |  False  | False  | False |   0   |    0%   |  0   |   0%   | 957  |  99%   |\n",
      "|            num_ries           |  958  |  nan   |   nan    |    nan    |   True  | False  | False |   0   |    0%   |  0   |   0%   |  0   |   0%   |\n",
      "+-------------------------------+-------+--------+----------+-----------+---------+--------+-------+-------+---------+------+--------+------+--------+\n"
     ]
    }
   ],
   "source": [
    "print(dp.dataprofile_fuction(FILE_DF))"
   ]
  }
 ],
 "metadata": {
  "kernelspec": {
   "display_name": "Python 3",
   "language": "python",
   "name": "python3"
  },
  "language_info": {
   "codemirror_mode": {
    "name": "ipython",
    "version": 3
   },
   "file_extension": ".py",
   "mimetype": "text/x-python",
   "name": "python",
   "nbconvert_exporter": "python",
   "pygments_lexer": "ipython3",
   "version": "3.12.3"
  }
 },
 "nbformat": 4,
 "nbformat_minor": 2
}
