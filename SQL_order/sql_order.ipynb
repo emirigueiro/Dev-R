{
 "cells": [
  {
   "cell_type": "code",
   "execution_count": 1,
   "metadata": {},
   "outputs": [
    {
     "name": "stdout",
     "output_type": "stream",
     "text": [
      "\n",
      "\n",
      "CREATE\n",
      " \n",
      "TEMP\n",
      " \n",
      "TABLE\n",
      " \n",
      "TempTable1\n",
      " \n",
      "(\n",
      "    id INT,\n",
      "    name VARCHAR(255)\n",
      ")\n",
      ";\n",
      "\n",
      "\n",
      "\n",
      "\n",
      "SELECT\n",
      " \n",
      "id, name\n",
      "\n",
      "\n",
      "FROM\n",
      " \n",
      "Table1\n",
      "\n",
      "\n",
      "WHERE id > 100\n",
      "JOIN Table2 ON Table1.id = Table2.id;\n"
     ]
    }
   ],
   "source": [
    "import sqlparse\n",
    "\n",
    "def analizar_sql(sql):\n",
    "    parsed = sqlparse.parse(sql)\n",
    "    for statement in parsed:\n",
    "        for token in statement.tokens:\n",
    "            print(token)\n",
    "\n",
    "# Ejemplo de uso\n",
    "sql_code = \"\"\"\n",
    "CREATE TEMP TABLE TempTable1 (\n",
    "    id INT,\n",
    "    name VARCHAR(255)\n",
    ");\n",
    "\n",
    "SELECT id, name\n",
    "FROM Table1\n",
    "WHERE id > 100\n",
    "JOIN Table2 ON Table1.id = Table2.id;\n",
    "\"\"\"\n",
    "\n",
    "analizar_sql(sql_code)\n"
   ]
  }
 ],
 "metadata": {
  "kernelspec": {
   "display_name": "Python 3",
   "language": "python",
   "name": "python3"
  },
  "language_info": {
   "codemirror_mode": {
    "name": "ipython",
    "version": 3
   },
   "file_extension": ".py",
   "mimetype": "text/x-python",
   "name": "python",
   "nbconvert_exporter": "python",
   "pygments_lexer": "ipython3",
   "version": "undefined.undefined.undefined"
  }
 },
 "nbformat": 4,
 "nbformat_minor": 2
}
