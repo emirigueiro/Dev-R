{
 "cells": [
  {
   "attachments": {},
   "cell_type": "markdown",
   "metadata": {},
   "source": [
    "# Funciones:\n",
    "\n",
    "1) Normalización: toma como entrada un conjunto de emails separados por \",\" y devuelve el mismo conjunto como una lista, con cada dato normalizado. \n",
    " La normalización consiste en:\n",
    "   a) Excluir caracteres especiales al inicio y al final de cada email.\n",
    "   b) Doble puntos \"..\" entre las extenciones (ej:\"..com\",\"..ar\")\n",
    "   c) Validación de estrucutra: si no contiene un @, tiene mas de uno o no tiene al menos un \".\", elimina el email.\n",
    "   d) Tranforma a minuscula todos los emails\n",
    "   e) Corrigue errores de tipeo dentro de los dominios. Por ej: \"otmail\" o \".con\"\n",
    "   f) Se puede incluir una lista de terminos a excluir, que esten contenidos en el dominio o el usuario de cada email.\n",
    "   \n"
   ]
  }
 ],
 "metadata": {
  "language_info": {
   "name": "python"
  },
  "orig_nbformat": 4
 },
 "nbformat": 4,
 "nbformat_minor": 2
}
