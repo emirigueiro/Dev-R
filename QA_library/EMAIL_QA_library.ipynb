{
 "cells": [
  {
   "cell_type": "code",
   "execution_count": 19,
   "metadata": {},
   "outputs": [],
   "source": [
    "import pandas as pd\n",
    "import numpy as np\n",
    "import re\n",
    "import Common_fuctions_QA_library "
   ]
  },
  {
   "cell_type": "code",
   "execution_count": 20,
   "metadata": {},
   "outputs": [],
   "source": [
    "# Lectura del CSV y guardado en una variable\n",
    "def READ_CSV(x):\n",
    "    return pd.read_csv(x, sep=\";\", encoding='latin-1')\n",
    "\n",
    "FILE = READ_CSV('listado_emails.csv')\n",
    "\n",
    "# Guardo los emails en una sola colimna de un DF\n",
    "FILE_DF = pd.DataFrame()"
   ]
  },
  {
   "cell_type": "code",
   "execution_count": 21,
   "metadata": {},
   "outputs": [],
   "source": [
    "#Identifica si el nombre de la columna contiene la expresión regular \"email|mail|correo\"\n",
    "\n",
    "def email_re(x):\n",
    "    column_list = x.columns\n",
    "    patron = re.compile(r\"email|mail|correo\", re.IGNORECASE)  # Se añade la palabra \"mail\" al patrón\n",
    "    resultados = []   \n",
    "    \n",
    "    for y in column_list:\n",
    "        if re.search(patron, str(y)): \n",
    "           resultados.append(True)\n",
    "        else:\n",
    "            resultados.append(False)\n",
    "            \n",
    "    return resultados\n"
   ]
  },
  {
   "cell_type": "code",
   "execution_count": 22,
   "metadata": {},
   "outputs": [],
   "source": [
    "#Se cuentan cuantos \"@\" hay en cada columna\n",
    "\n",
    "def email_count(x):\n",
    "    column_list = x.columns\n",
    "    patron = re.compile(r\"@\")\n",
    "    resultados = []\n",
    "    \n",
    "    for y in column_list:\n",
    "        column_data = x[y]\n",
    "        count = sum(1 for value in column_data if re.search(patron, str(value)))\n",
    "        resultados.append(count)\n",
    "        \n",
    "    return resultados\n"
   ]
  },
  {
   "cell_type": "code",
   "execution_count": 23,
   "metadata": {},
   "outputs": [],
   "source": [
    "#Recorro todas las filas de todas las columnas y si encuentra alguno de los dominios (Hotmai, Gmai, Yahoo, etc.) en al menos una fila, marca esa columna con True.\n",
    "\n",
    "def email_list (x):\n",
    "    column_list = x.columns\n",
    "    patron = re.compile(r\"@\", re.IGNORECASE)\n",
    "    resultados = []\n",
    "    for y in column_list:\n",
    "        column_data = x[y]\n",
    "        if re.search(patron, str(column_data)): \n",
    "           resultados.append(True)\n",
    "        else:\n",
    "            resultados.append(False)\n",
    "    return resultados\n",
    "\n"
   ]
  },
  {
   "cell_type": "code",
   "execution_count": 24,
   "metadata": {},
   "outputs": [
    {
     "name": "stdout",
     "output_type": "stream",
     "text": [
      "[8, 8, 8]\n"
     ]
    }
   ],
   "source": [
    "print(email_count(FILE))"
   ]
  }
 ],
 "metadata": {
  "kernelspec": {
   "display_name": "Python 3",
   "language": "python",
   "name": "python3"
  },
  "language_info": {
   "codemirror_mode": {
    "name": "ipython",
    "version": 3
   },
   "file_extension": ".py",
   "mimetype": "text/x-python",
   "name": "python",
   "nbconvert_exporter": "python",
   "pygments_lexer": "ipython3",
   "version": "3.11.3"
  }
 },
 "nbformat": 4,
 "nbformat_minor": 2
}
