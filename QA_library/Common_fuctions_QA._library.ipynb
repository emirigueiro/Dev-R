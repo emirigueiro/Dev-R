{
 "cells": [
  {
   "cell_type": "code",
   "execution_count": 2,
   "metadata": {},
   "outputs": [],
   "source": [
    "import pandas as pd\n",
    "import re"
   ]
  },
  {
   "cell_type": "code",
   "execution_count": 3,
   "metadata": {},
   "outputs": [],
   "source": [
    "# Lectura del CSV y guardado en una variable\n",
    "def READ_CSV(x):\n",
    "    return pd.read_csv(x, sep=\",\", encoding='latin-1')\n",
    "\n",
    "FILE = READ_CSV('base-primer-relev-dispositivos.csv')\n",
    "\n",
    "# Guardo los emails en una sola colimna de un DF\n",
    "FILE_DF = pd.DataFrame()\n"
   ]
  },
  {
   "cell_type": "code",
   "execution_count": 4,
   "metadata": {},
   "outputs": [],
   "source": [
    "def volumen (x):\n",
    "    volumn = pd.DataFrame(columns=['Count'])\n",
    "    volumn.loc['Filas'] = x.shape[0]\n",
    "    volumn.loc['Columnas'] = x.shape[1]\n",
    "    return volumn"
   ]
  },
  {
   "cell_type": "code",
   "execution_count": 5,
   "metadata": {},
   "outputs": [],
   "source": [
    "def column_list (x):\n",
    "    columns_list = []\n",
    "    columns_list = x.columns\n",
    "    return columns_list"
   ]
  },
  {
   "cell_type": "code",
   "execution_count": 6,
   "metadata": {},
   "outputs": [],
   "source": [
    "def count_list (x):\n",
    "    column_list = x.columns\n",
    "    count_list = []\n",
    "    for y in column_list:\n",
    "        column_data = x[y]\n",
    "        if column_data is not None:\n",
    "            count_list.append(column_data.count())\n",
    "\n",
    "    return count_list"
   ]
  },
  {
   "cell_type": "code",
   "execution_count": 7,
   "metadata": {},
   "outputs": [],
   "source": [
    "def unique_list (x):\n",
    "    column_list = x.columns\n",
    "    unique_list = []\n",
    "    for y in column_list:\n",
    "        column_data = x[y]\n",
    "        if column_data is not None:\n",
    "            unique_list.append(column_data.nunique())\n",
    "\n",
    "    return unique_list"
   ]
  },
  {
   "cell_type": "code",
   "execution_count": 8,
   "metadata": {},
   "outputs": [],
   "source": [
    "def empty_list (x):\n",
    "    column_list = x.columns\n",
    "    empty_list = []\n",
    "    for y in column_list:\n",
    "        column_data = x[y]\n",
    "        if column_data is not None:\n",
    "            empty_list.append(column_data.eq(' ').sum())\n",
    "\n",
    "    return empty_list"
   ]
  },
  {
   "cell_type": "code",
   "execution_count": 9,
   "metadata": {},
   "outputs": [],
   "source": [
    "def cero_list (x):\n",
    "    column_list = x.columns\n",
    "    cero_list = []\n",
    "    for y in column_list:\n",
    "        column_data = x[y]\n",
    "        if column_data is not None:\n",
    "            cero_list.append(column_data.eq('0').sum())\n",
    "\n",
    "    return cero_list"
   ]
  },
  {
   "cell_type": "code",
   "execution_count": 10,
   "metadata": {},
   "outputs": [],
   "source": [
    "def unique_values_list (x):\n",
    "    column_list = x.columns\n",
    "    unique_values = []\n",
    "    for y in column_list:\n",
    "        column_data = x[y]\n",
    "        if column_data is not None:\n",
    "            unique_values.append(column_data.unique().tolist())\n",
    "\n",
    "    return unique_values"
   ]
  },
  {
   "cell_type": "code",
   "execution_count": 11,
   "metadata": {},
   "outputs": [],
   "source": [
    "def numeric_list(x):\n",
    "    column_list = x.columns\n",
    "    result_list = []\n",
    "\n",
    "    for y in column_list:\n",
    "        try:\n",
    "            is_numeric = pd.to_numeric(x[y], errors='coerce')  # Utiliza 'coerce' para convertir a NaN si no es numérico\n",
    "            is_numeric = is_numeric.notnull().all()  # Verifica si todos los valores de la columna son numéricos\n",
    "            result_list.append(is_numeric)  # Agrega el resultado a la lista\n",
    "        except ValueError:\n",
    "            result_list.append(False)  # Si hay un error, marca la columna como no numérica\n",
    "\n",
    "    return result_list  # Devuelve la lista con valores True o False por columna"
   ]
  },
  {
   "cell_type": "code",
   "execution_count": 12,
   "metadata": {},
   "outputs": [],
   "source": [
    "def letter_list (x):\n",
    "    column_list = x.columns\n",
    "    letter_list = []\n",
    "    for y in column_list:\n",
    "        column_data = x[y]\n",
    "        if column_data is not None:\n",
    "            letter_list.append(column_data.astype(str).apply(lambda x: x.replace(\" \", \"\").isalpha()).all())\n",
    "\n",
    "    return letter_list"
   ]
  },
  {
   "cell_type": "code",
   "execution_count": 13,
   "metadata": {},
   "outputs": [],
   "source": [
    "def null_list (x):\n",
    "    column_list = x.columns\n",
    "    null_list = []\n",
    "    for y in column_list:\n",
    "        column_data = x[y]\n",
    "        if column_data is not None:\n",
    "            null_list.append(column_data.isnull().sum())\n",
    "\n",
    "    return null_list"
   ]
  }
 ],
 "metadata": {
  "kernelspec": {
   "display_name": "Python 3",
   "language": "python",
   "name": "python3"
  },
  "language_info": {
   "codemirror_mode": {
    "name": "ipython",
    "version": 3
   },
   "file_extension": ".py",
   "mimetype": "text/x-python",
   "name": "python",
   "nbconvert_exporter": "python",
   "pygments_lexer": "ipython3",
   "version": "3.11.3"
  }
 },
 "nbformat": 4,
 "nbformat_minor": 2
}
