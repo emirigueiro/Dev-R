{
 "cells": [
  {
   "cell_type": "code",
   "execution_count": 11,
   "metadata": {},
   "outputs": [],
   "source": [
    "import pandas as pd\n",
    "import numpy as np\n",
    "import re\n",
    "import primary_f "
   ]
  },
  {
   "cell_type": "code",
   "execution_count": 12,
   "metadata": {},
   "outputs": [],
   "source": [
    "# Lectura del CSV y guardado en una variable\n",
    "def READ_CSV(x):\n",
    "    return pd.read_csv(x, sep=\";\", encoding='latin-1')\n",
    "\n",
    "FILE = READ_CSV('listado_emails.csv')\n",
    "\n",
    "# Guardo los emails en una sola colimna de un DF\n",
    "FILE_DF = pd.DataFrame()"
   ]
  },
  {
   "cell_type": "code",
   "execution_count": 13,
   "metadata": {},
   "outputs": [],
   "source": [
    "#Identify if the column name refers to email \"email|mail|correo\"\n",
    "def email_re(x):\n",
    "    column_list = x.columns\n",
    "    patron = re.compile(r\"@\", re.IGNORECASE)\n",
    "    resultados = []   \n",
    "    \n",
    "    for y in column_list:\n",
    "        if re.search(patron, str(y)): \n",
    "           resultados.append(True)\n",
    "        else:\n",
    "            resultados.append(False)\n",
    "            \n",
    "    return(resultados)\n",
    "\n",
    "#Count of \"@\" on each column\n",
    "def email_count_arroba(x):\n",
    "    column_list = x.columns\n",
    "    patron = re.compile(r\"@\")\n",
    "    resultados = []\n",
    "\n",
    "    for y in column_list:\n",
    "        column_data = x[y]\n",
    "        count = sum(1 for value in column_data if re.search(patron, str(value)))\n",
    "        resultados.append(count)\n",
    "          \n",
    "    return resultados\n",
    "\n",
    "\n",
    "#Divide the number of \"@\" by the number of records to obtain the % of records with @ per row\n",
    "def email_percent_arroba(x):\n",
    "    email_percent_arroba_1 = []\n",
    "    email_percent_arroba_2 = [] \n",
    "    [email_percent_arroba_1.append((x2 / x1)*100) for x1, x2 in zip(primary_f.r_count(x), email_count_arroba(x))]\n",
    "\n",
    "    for x in email_percent_arroba_1:\n",
    "       if x <= 100.0 and x >= 90.1:\n",
    "           email_percent_arroba_2.append(0)\n",
    "       elif x <= 90.0 and x >= 50.1:\n",
    "           email_percent_arroba_2.append(1)\n",
    "       elif x <= 50.0 and x >= 20.1:\n",
    "           email_percent_arroba_2.append(2)\n",
    "       elif x <= 20.0:\n",
    "           email_percent_arroba_2.append(3)\n",
    "       \n",
    "    return email_percent_arroba_2\n",
    "\n",
    "\n",
    "#I loop through all the rows in all the columns and if it finds any of the domains (Hotmail, Gmail, Yahoo, etc.) in at least one row, it marks that column with True\n",
    "def email_domain (x):\n",
    "    column_list = x.columns\n",
    "    patron = re.compile(r\"Hotmail|Gmail|Yahoo|Outlook|Live|Icloud|Fastemail\", re.IGNORECASE)\n",
    "    resultados = []\n",
    "    for y in column_list:\n",
    "        column_data = x[y]\n",
    "        if re.search(patron, str(column_data)): \n",
    "           resultados.append(True)\n",
    "        else:\n",
    "            resultados.append(False)\n",
    "    return resultados\n"
   ]
  },
  {
   "cell_type": "code",
   "execution_count": 14,
   "metadata": {},
   "outputs": [],
   "source": [
    "#This fuction creates the pobability calculation\n",
    "def email_probability(x):\n",
    "   \n",
    "   #Sumarization\n",
    "   final = pd.DataFrame()\n",
    "   final['email_re'] = email_re(x) \n",
    "   final['email_percent_arroba'] = email_percent_arroba(x)\n",
    "   final['email_domain'] = email_domain(x) \n",
    "\n",
    "   final_2 = []\n",
    "   final_2 = final['email_re'] + final['email_percent_arroba'] + final['email_domain']\n",
    "\n",
    "   #Buold the probabilityh calculation\n",
    "   id_quality = []\n",
    "   for x in final_2:\n",
    "       if x == 0:\n",
    "           id_quality.append('100%')\n",
    "       elif x == 1:\n",
    "           id_quality.append('75%')\n",
    "       elif x == 2:\n",
    "           id_quality.append('50%')\n",
    "       elif x >= 3:\n",
    "           id_quality.append('0%')\n",
    "\n",
    "   return id_quality\n"
   ]
  },
  {
   "cell_type": "code",
   "execution_count": 15,
   "metadata": {},
   "outputs": [
    {
     "name": "stdout",
     "output_type": "stream",
     "text": [
      "['50%', '50%', '50%']\n"
     ]
    }
   ],
   "source": [
    "print(email_probability(FILE))"
   ]
  }
 ],
 "metadata": {
  "kernelspec": {
   "display_name": "Python 3",
   "language": "python",
   "name": "python3"
  },
  "language_info": {
   "codemirror_mode": {
    "name": "ipython",
    "version": 3
   },
   "file_extension": ".py",
   "mimetype": "text/x-python",
   "name": "python",
   "nbconvert_exporter": "python",
   "pygments_lexer": "ipython3",
   "version": "3.12.3"
  }
 },
 "nbformat": 4,
 "nbformat_minor": 2
}
