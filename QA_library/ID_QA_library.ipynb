{
 "cells": [
  {
   "cell_type": "code",
   "execution_count": 1,
   "metadata": {},
   "outputs": [],
   "source": [
    "import pandas as pd\n",
    "import numpy as np\n",
    "import re\n",
    "import Common_fuctions_QA_library "
   ]
  },
  {
   "cell_type": "code",
   "execution_count": 2,
   "metadata": {},
   "outputs": [],
   "source": [
    "# Lectura del CSV y guardado en una variable\n",
    "def READ_CSV(x):\n",
    "    return pd.read_csv(x, sep=\",\", encoding='latin-1')\n",
    "\n",
    "FILE = READ_CSV('base-primer-relev-dispositivos.csv')\n",
    "\n",
    "# Guardo los emails en una sola colimna de un DF\n",
    "FILE_DF = pd.DataFrame()"
   ]
  },
  {
   "cell_type": "code",
   "execution_count": 3,
   "metadata": {},
   "outputs": [],
   "source": [
    "#Identifica si el nombre de la columna contiene la expresión regular \"id/ID\"\n",
    "\n",
    "def id_list(x):\n",
    "    column_list = x.columns\n",
    "    patron = re.compile(r\"id\", re.IGNORECASE)\n",
    "    resultados = []   \n",
    "    \n",
    "    for y in column_list:\n",
    "        if re.search(patron, str(y)): \n",
    "           resultados.append(True)\n",
    "        else:\n",
    "            resultados.append(False)\n",
    "            \n",
    "    return(resultados)"
   ]
  },
  {
   "cell_type": "code",
   "execution_count": 4,
   "metadata": {},
   "outputs": [],
   "source": [
    "def id_probability(x):\n",
    "   #Tranforma el True por 1 y False por 0, sobre el return de la funciòn id_list:\n",
    "   id_re = [0 if x == True else 1 for x in (id_list(x))]\n",
    "   \n",
    "   #Identifica aquellas columnas que cuentan con la misma cantidad de registros ùnicos y distinto:\n",
    "   unique_and_distincts = []\n",
    "\n",
    "   count_rows = (Common_fuctions_QA_library.count_list(x))\n",
    "   count_distinct_rows = (Common_fuctions_QA_library.unique_list(x))\n",
    "   \n",
    "   for x1, x2 in zip(count_rows, count_distinct_rows):\n",
    "      if x1 != x2:\n",
    "         unique_and_distincts.append(1)\n",
    "      elif x1 == x2:\n",
    "         unique_and_distincts.append(0)\n",
    "\n",
    "   #Utiliza la funciòn empty_list para identifica aquellas columnas que cuentan con valores vacios y reemplaza Ture x 1 y False x 0:\n",
    "   empty_rows = [1 if x > 0 else 0 for x in (Common_fuctions_QA_library.empty_list(x))]\n",
    "\n",
    "   #Utiliza la funciòn  null_list para identifica aquellas columnas que cuentan con valores nulos y reemplaza Ture x 1 y False x 0:\n",
    "   null_rows = [1 if x > 0 else 0 for x in (Common_fuctions_QA_library.null_list(x))]\n",
    "\n",
    "   #Creacion variable % de unicos:\n",
    "   percent_unique_1 = []\n",
    "   percent_unique_2 = [] \n",
    "   [percent_unique_1.append((x2 / x1)*100) for x1, x2 in zip(count_rows, count_distinct_rows)]\n",
    "   \n",
    "   for x in percent_unique_1:\n",
    "       if x <= 100.0 and x >= 90.1:\n",
    "           percent_unique_2.append(0)\n",
    "       elif x <= 90.0 and x >= 50.1:\n",
    "           percent_unique_2.append(1)\n",
    "       elif x <= 50.0 and x >= 20.1:\n",
    "           percent_unique_2.append(2)\n",
    "       elif x <= 20.0:\n",
    "           percent_unique_2.append(3)\n",
    "\n",
    "   #Sumarizaciòn:\n",
    "   final = pd.DataFrame()\n",
    "   final['id_re'] = id_re \n",
    "   final['unique_and_distincts'] = unique_and_distincts\n",
    "   final['empty_rows'] = empty_rows\n",
    "   final['null_rows'] = null_rows\n",
    "   final['percent_unique'] = percent_unique_2\n",
    "  \n",
    "   final_2 = []\n",
    "   final_2 = final['id_re'] + final['unique_and_distincts'] + final['empty_rows'] + final['null_rows'] + final['percent_unique']\n",
    "   \n",
    "   #Construcciòn del calcuo de probabilidad\n",
    "   id_quality = []\n",
    "   for x in final_2:\n",
    "       if x == 0:\n",
    "           id_quality.append('100%')\n",
    "       elif x == 1:\n",
    "           id_quality.append('75%')\n",
    "       elif x == 2:\n",
    "           id_quality.append('50%')\n",
    "       elif x >= 3:\n",
    "           id_quality.append('0%')\n",
    "\n",
    "   return id_quality"
   ]
  },
  {
   "cell_type": "code",
   "execution_count": 5,
   "metadata": {},
   "outputs": [
    {
     "name": "stdout",
     "output_type": "stream",
     "text": [
      "['100%', '0%', '0%', '0%', '0%', '0%', '0%', '0%', '0%', '0%', '0%', '0%', '0%', '0%', '0%', '0%', '0%', '0%', '0%', '0%', '0%', '0%', '0%', '0%', '0%', '0%', '0%', '0%', '0%', '0%', '0%', '0%', '0%', '0%', '0%', '0%', '0%', '0%', '0%', '0%', '0%', '0%', '0%', '0%', '0%', '0%', '0%', '0%', '0%', '0%', '0%', '0%', '0%', '0%', '0%', '0%', '0%', '0%', '0%', '0%', '0%', '0%', '0%', '0%', '0%', '0%', '0%', '0%', '0%', '0%', '0%', '0%', '0%', '0%', '0%', '0%', '0%', '0%', '0%', '0%', '0%', '0%', '0%', '0%', '0%', '0%', '0%', '0%', '0%', '0%', '0%', '0%', '0%', '0%', '0%', '0%', '0%', '0%', '0%', '0%', '0%', '0%', '0%', '0%', '0%', '0%', '0%', '0%', '0%', '0%', '0%', '0%', '0%', '0%', '0%', '0%', '0%', '0%', '0%', '0%', '0%', '0%', '0%', '0%', '0%', '0%', '0%', '0%', '0%', '0%', '0%', '0%', '0%', '0%', '0%', '0%', '0%', '0%', '0%', '0%', '0%', '0%', '0%', '0%', '0%', '0%', '0%', '0%', '0%', '0%', '0%', '0%', '0%', '0%', '0%', '0%', '0%', '0%', '0%', '0%', '0%', '0%', '0%', '0%', '0%', '0%', '0%', '0%', '0%', '0%', '0%', '0%', '0%', '0%', '0%', '0%', '0%', '0%', '0%', '0%', '0%', '0%', '0%', '0%', '0%', '0%', '0%', '0%', '0%', '0%', '0%', '0%', '0%', '0%', '0%', '0%', '0%', '0%', '0%', '0%', '0%', '0%', '0%', '0%', '0%', '0%', '0%', '0%', '0%', '0%', '0%', '0%', '0%', '0%', '0%', '0%', '0%', '0%', '0%', '0%', '0%', '0%', '0%', '0%', '0%', '0%', '0%', '0%', '0%', '0%']\n"
     ]
    }
   ],
   "source": [
    "print(id_probability(FILE))"
   ]
  }
 ],
 "metadata": {
  "kernelspec": {
   "display_name": "Python 3",
   "language": "python",
   "name": "python3"
  },
  "language_info": {
   "codemirror_mode": {
    "name": "ipython",
    "version": 3
   },
   "file_extension": ".py",
   "mimetype": "text/x-python",
   "name": "python",
   "nbconvert_exporter": "python",
   "pygments_lexer": "ipython3",
   "version": "3.11.3"
  }
 },
 "nbformat": 4,
 "nbformat_minor": 2
}
