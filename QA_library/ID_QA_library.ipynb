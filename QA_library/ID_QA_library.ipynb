{
 "cells": [
  {
   "cell_type": "code",
   "execution_count": 79,
   "metadata": {},
   "outputs": [],
   "source": [
    "import pandas as pd\n",
    "import numpy as np\n",
    "import re\n",
    "import Common_fuctions_QA_library \n",
    "\n"
   ]
  },
  {
   "cell_type": "code",
   "execution_count": 80,
   "metadata": {},
   "outputs": [],
   "source": [
    "# Lectura del CSV y guardado en una variable\n",
    "def READ_CSV(x):\n",
    "    return pd.read_csv(x, sep=\",\", encoding='latin-1')\n",
    "\n",
    "FILE = READ_CSV('base-primer-relev-dispositivos.csv')\n",
    "\n",
    "# Guardo los emails en una sola colimna de un DF\n",
    "FILE_DF = pd.DataFrame()\n",
    "# FILE_DF[0] = FILE\n",
    "\n",
    "# Paso la columna con los email del DF a una lista\n",
    "# email_list = []\n",
    "# email_list = FILE_DF[0].values.tolist()\n"
   ]
  },
  {
   "cell_type": "code",
   "execution_count": 81,
   "metadata": {},
   "outputs": [],
   "source": [
    "#Identifica si el nombre de la columna contiene la expresión regular \"id/ID\"\n",
    "\n",
    "def id_list(x):\n",
    "    column_list = x.columns\n",
    "    patron = re.compile(r\"id\", re.IGNORECASE)\n",
    "    resultados = []   \n",
    "    \n",
    "    for y in column_list:\n",
    "        if re.search(patron, str(y)): \n",
    "           resultados.append(True)\n",
    "        else:\n",
    "            resultados.append(False)\n",
    "            \n",
    "    return(resultados)"
   ]
  },
  {
   "cell_type": "code",
   "execution_count": 82,
   "metadata": {},
   "outputs": [],
   "source": [
    "def id_probability(x):\n",
    "   #Tranforma el True por 1 y False por 0, sobre el return de la funciòn id_list:\n",
    "   id_re = [0 if x == True else 1 for x in (id_list(x))]\n",
    "   \n",
    "   #Identifica aquellas columnas que cuentan con la misma cantidad de registros ùnicos y distinto:\n",
    "   unique_and_distincts = []\n",
    "\n",
    "   count_rows = (Common_fuctions_QA_library.count_list(x))\n",
    "   count_distinct_rows = (Common_fuctions_QA_library.unique_list(x))\n",
    "   \n",
    "   for x1, x2 in zip(count_rows, count_distinct_rows):\n",
    "      if x1 != x2:\n",
    "         unique_and_distincts.append(1)\n",
    "      elif x1 == x2:\n",
    "         unique_and_distincts.append(0)\n",
    "   #Utiliza la funciòn empty_list para identifica aquellas columnas que cuentan con valores vacios y reemplaza Ture x 1 y False x 0:\n",
    "   empty_rows = [1 if x > 0 else 0 for x in (Common_fuctions_QA_library.empty_list(x))]\n",
    "\n",
    "   #Utiliza la funciòn  null_list para identifica aquellas columnas que cuentan con valores nulos y reemplaza Ture x 1 y False x 0:\n",
    "   null_rows = [1 if x > 0 else 0 for x in (Common_fuctions_QA_library.null_list(x))]\n",
    "\n",
    "   #Sumarizaciòn:\n",
    "   final = pd.DataFrame()\n",
    "   final['id_re'] = id_re \n",
    "   final['unique_and_distincts'] = unique_and_distincts\n",
    "   final['empty_rows'] = empty_rows\n",
    "   final['null_rows'] = null_rows\n",
    "  \n",
    "   final_2 = []\n",
    "   final_2 = final['id_re'] + final['unique_and_distincts'] + final['empty_rows'] + final['null_rows']\n",
    "\n",
    "   id_quality = []\n",
    "   for x in final_2:\n",
    "       if x == 0:\n",
    "           id_quality.append('100%')\n",
    "       elif x == 1:\n",
    "           id_quality.append('75%')\n",
    "       elif x == 2:\n",
    "           id_quality.append('50%')\n",
    "       elif x == 3:\n",
    "           id_quality.append('25%')\n",
    "       elif x == 4:\n",
    "           id_quality.append('')        \n",
    "\n",
    "   return id_quality"
   ]
  },
  {
   "cell_type": "code",
   "execution_count": 83,
   "metadata": {},
   "outputs": [
    {
     "name": "stdout",
     "output_type": "stream",
     "text": [
      "['100%', '50%', '50%', '50%', '25%', '25%', '25%', '25%', '25%', '25%', '25%', '25%', '25%', '25%', '25%', '25%', '50%', '50%', '25%', '25%', '25%', '25%', '25%', '25%', '25%', '25%', '25%', '25%', '25%', '25%', '25%', '25%', '25%', '25%', '25%', '25%', '25%', '25%', '25%', '25%', '25%', '25%', '25%', '25%', '25%', '25%', '25%', '25%', '25%', '25%', '25%', '25%', '25%', '25%', '25%', '25%', '25%', '25%', '25%', '25%', '25%', '25%', '25%', '25%', '25%', '25%', '25%', '25%', '25%', '25%', '25%', '25%', '25%', '25%', '25%', '25%', '25%', '25%', '25%', '25%', '25%', '25%', '25%', '25%', '25%', '25%', '25%', '25%', '25%', '25%', '25%', '25%', '25%', '25%', '25%', '25%', '25%', '25%', '25%', '25%', '25%', '25%', '25%', '25%', '25%', '25%', '25%', '25%', '25%', '25%', '25%', '25%', '25%', '25%', '25%', '25%', '25%', '25%', '25%', '25%', '25%', '25%', '25%', '25%', '25%', '25%', '25%', '25%', '25%', '25%', '25%', '25%', '25%', '25%', '25%', '25%', '25%', '25%', '25%', '25%', '25%', '25%', '25%', '25%', '25%', '25%', '25%', '25%', '25%', '25%', '25%', '25%', '25%', '25%', '25%', '25%', '25%', '25%', '25%', '25%', '25%', '25%', '25%', '25%', '25%', '25%', '25%', '25%', '25%', '25%', '25%', '25%', '25%', '25%', '25%', '25%', '25%', '25%', '25%', '25%', '25%', '25%', '25%', '25%', '25%', '25%', '25%', '25%', '25%', '25%', '25%', '25%', '25%', '25%', '25%', '25%', '25%', '25%', '25%', '25%', '25%', '25%', '25%', '25%', '25%', '25%', '25%', '25%', '25%', '25%', '25%', '25%', '25%', '25%', '25%', '25%', '25%', '25%', '25%', '25%', '25%', '25%', '25%', '25%', '25%', '25%', '25%', '25%', '25%', '25%']\n"
     ]
    }
   ],
   "source": [
    "print(id_probability(FILE))"
   ]
  },
  {
   "cell_type": "code",
   "execution_count": 84,
   "metadata": {},
   "outputs": [
    {
     "name": "stdout",
     "output_type": "stream",
     "text": [
      "[<Afghanistan | AFG>, <Åland Islands | ALA>, <Albania | ALB>, <Algeria | DZA>, <American Samoa | ASM>, <Andorra | AND>, <Angola | AGO>, <Anguilla | AIA>, <Antarctica | ATA>, <Antigua and Barbuda | ATG>, <Argentina | ARG>, <Armenia | ARM>, <Aruba | ABW>, <Australia | AUS>, <Austria | AUT>, <Azerbaijan | AZE>, <Bahamas | BHS>, <Bahrain | BHR>, <Bangladesh | BGD>, <Barbados | BRB>, <Belarus | BLR>, <Belgium | BEL>, <Belize | BLZ>, <Benin | BEN>, <Bermuda | BMU>, <Bhutan | BTN>, <Bolivia (Plurinational State of) | BOL>, <Bonaire, Sint Eustatius and Saba | BES>, <Bosnia and Herzegovina | BIH>, <Botswana | BWA>, <Bouvet Island | BVT>, <Brazil | BRA>, <British Indian Ocean Territory | IOT>, <United States Minor Outlying Islands | UMI>, <Virgin Islands (British) | VGB>, <Virgin Islands (U.S.) | VIR>, <Brunei Darussalam | BRN>, <Bulgaria | BGR>, <Burkina Faso | BFA>, <Burundi | BDI>, <Cambodia | KHM>, <Cameroon | CMR>, <Canada | CAN>, <Cabo Verde | CPV>, <Cayman Islands | CYM>, <Central African Republic | CAF>, <Chad | TCD>, <Chile | CHL>, <China | CHN>, <Christmas Island | CXR>, <Cocos (Keeling) Islands | CCK>, <Colombia | COL>, <Comoros | COM>, <Congo | COG>, <Congo (Democratic Republic of the) | COD>, <Cook Islands | COK>, <Costa Rica | CRI>, <Croatia | HRV>, <Cuba | CUB>, <Curaçao | CUW>, <Cyprus | CYP>, <Czech Republic | CZE>, <Denmark | DNK>, <Djibouti | DJI>, <Dominica | DMA>, <Dominican Republic | DOM>, <Ecuador | ECU>, <Egypt | EGY>, <El Salvador | SLV>, <Equatorial Guinea | GNQ>, <Eritrea | ERI>, <Estonia | EST>, <Ethiopia | ETH>, <Falkland Islands (Malvinas) | FLK>, <Faroe Islands | FRO>, <Fiji | FJI>, <Finland | FIN>, <France | FRA>, <French Guiana | GUF>, <French Polynesia | PYF>, <French Southern Territories | ATF>, <Gabon | GAB>, <Gambia | GMB>, <Georgia | GEO>, <Germany | DEU>, <Ghana | GHA>, <Gibraltar | GIB>, <Greece | GRC>, <Greenland | GRL>, <Grenada | GRD>, <Guadeloupe | GLP>, <Guam | GUM>, <Guatemala | GTM>, <Guernsey | GGY>, <Guinea | GIN>, <Guinea-Bissau | GNB>, <Guyana | GUY>, <Haiti | HTI>, <Heard Island and McDonald Islands | HMD>, <Vatican City | VAT>, <Honduras | HND>, <Hungary | HUN>, <Hong Kong | HKG>, <Iceland | ISL>, <India | IND>, <Indonesia | IDN>, <Ivory Coast | CIV>, <Iran (Islamic Republic of) | IRN>, <Iraq | IRQ>, <Ireland | IRL>, <Isle of Man | IMN>, <Israel | ISR>, <Italy | ITA>, <Jamaica | JAM>, <Japan | JPN>, <Jersey | JEY>, <Jordan | JOR>, <Kazakhstan | KAZ>, <Kenya | KEN>, <Kiribati | KIR>, <Kuwait | KWT>, <Kyrgyzstan | KGZ>, <Lao People's Democratic Republic | LAO>, <Latvia | LVA>, <Lebanon | LBN>, <Lesotho | LSO>, <Liberia | LBR>, <Libya | LBY>, <Liechtenstein | LIE>, <Lithuania | LTU>, <Luxembourg | LUX>, <Macao | MAC>, <North Macedonia | MKD>, <Madagascar | MDG>, <Malawi | MWI>, <Malaysia | MYS>, <Maldives | MDV>, <Mali | MLI>, <Malta | MLT>, <Marshall Islands | MHL>, <Martinique | MTQ>, <Mauritania | MRT>, <Mauritius | MUS>, <Mayotte | MYT>, <Mexico | MEX>, <Micronesia (Federated States of) | FSM>, <Moldova (Republic of) | MDA>, <Monaco | MCO>, <Mongolia | MNG>, <Montenegro | MNE>, <Montserrat | MSR>, <Morocco | MAR>, <Mozambique | MOZ>, <Myanmar | MMR>, <Namibia | NAM>, <Nauru | NRU>, <Nepal | NPL>, <Netherlands | NLD>, <New Caledonia | NCL>, <New Zealand | NZL>, <Nicaragua | NIC>, <Niger | NER>, <Nigeria | NGA>, <Niue | NIU>, <Norfolk Island | NFK>, <Korea (Democratic People's Republic of) | PRK>, <Northern Mariana Islands | MNP>, <Norway | NOR>, <Oman | OMN>, <Pakistan | PAK>, <Palau | PLW>, <Palestine, State of | PSE>, <Panama | PAN>, <Papua New Guinea | PNG>, <Paraguay | PRY>, <Peru | PER>, <Philippines | PHL>, <Pitcairn | PCN>, <Poland | POL>, <Portugal | PRT>, <Puerto Rico | PRI>, <Qatar | QAT>, <Republic of Kosovo | UNK>, <Réunion | REU>, <Romania | ROU>, <Russian Federation | RUS>, <Rwanda | RWA>, <Saint Barthélemy | BLM>, <Saint Helena, Ascension and Tristan da Cunha | SHN>, <Saint Kitts and Nevis | KNA>, <Saint Lucia | LCA>, <Saint Martin (French part) | MAF>, <Saint Pierre and Miquelon | SPM>, <Saint Vincent and the Grenadines | VCT>, <Samoa | WSM>, <San Marino | SMR>, <Sao Tome and Principe | STP>, <Saudi Arabia | SAU>, <Senegal | SEN>, <Serbia | SRB>, <Seychelles | SYC>, <Sierra Leone | SLE>, <Singapore | SGP>, <Sint Maarten (Dutch part) | SXM>, <Slovakia | SVK>, <Slovenia | SVN>, <Solomon Islands | SLB>, <Somalia | SOM>, <South Africa | ZAF>, <South Georgia and the South Sandwich Islands | SGS>, <Korea (Republic of) | KOR>, <Spain | ESP>, <Sri Lanka | LKA>, <Sudan | SDN>, <South Sudan | SSD>, <Suriname | SUR>, <Svalbard and Jan Mayen | SJM>, <Swaziland | SWZ>, <Sweden | SWE>, <Switzerland | CHE>, <Syrian Arab Republic | SYR>, <Taiwan | TWN>, <Tajikistan | TJK>, <Tanzania, United Republic of | TZA>, <Thailand | THA>, <Timor-Leste | TLS>, <Togo | TGO>, <Tokelau | TKL>, <Tonga | TON>, <Trinidad and Tobago | TTO>, <Tunisia | TUN>, <Turkey | TUR>, <Turkmenistan | TKM>, <Turks and Caicos Islands | TCA>, <Tuvalu | TUV>, <Uganda | UGA>, <Ukraine | UKR>, <United Arab Emirates | ARE>, <United Kingdom of Great Britain and Northern Ireland | GBR>, <United States of America | USA>, <Uruguay | URY>, <Uzbekistan | UZB>, <Vanuatu | VUT>, <Venezuela (Bolivarian Republic of) | VEN>, <Vietnam | VNM>, <Wallis and Futuna | WLF>, <Western Sahara | ESH>, <Yemen | YEM>, <Zambia | ZMB>, <Zimbabwe | ZWE>]\n"
     ]
    }
   ],
   "source": [
    "#Funcion para obtener todos los paises del mundo\n",
    "\n",
    "from restcountries import RestCountryApiV2 as rapi\n",
    "\n",
    "country_list = rapi.get_all()\n",
    "\n",
    "print(country_list)"
   ]
  }
 ],
 "metadata": {
  "kernelspec": {
   "display_name": "Python 3",
   "language": "python",
   "name": "python3"
  },
  "language_info": {
   "codemirror_mode": {
    "name": "ipython",
    "version": 3
   },
   "file_extension": ".py",
   "mimetype": "text/x-python",
   "name": "python",
   "nbconvert_exporter": "python",
   "pygments_lexer": "ipython3",
   "version": "3.11.3"
  }
 },
 "nbformat": 4,
 "nbformat_minor": 2
}
