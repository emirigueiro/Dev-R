{
 "cells": [
  {
   "cell_type": "code",
   "execution_count": 149,
   "metadata": {},
   "outputs": [],
   "source": [
    "import pandas as pd\n",
    "import re"
   ]
  },
  {
   "cell_type": "code",
   "execution_count": 150,
   "metadata": {},
   "outputs": [],
   "source": [
    "# Lectura del CSV y guardado en una variable\n",
    "def READ_CSV(x):\n",
    "    return pd.read_csv(x, sep=\",\", encoding='latin-1')\n",
    "\n",
    "FILE = READ_CSV('base-primer-relev-dispositivos.csv')\n",
    "\n",
    "# Guardo los emails en una sola colimna de un DF\n",
    "FILE_DF = pd.DataFrame()\n"
   ]
  },
  {
   "cell_type": "code",
   "execution_count": 151,
   "metadata": {},
   "outputs": [],
   "source": [
    "def column_list (x):\n",
    "    columns_list = []\n",
    "    columns_list = x.columns\n",
    "    return columns_list"
   ]
  },
  {
   "cell_type": "code",
   "execution_count": 152,
   "metadata": {},
   "outputs": [],
   "source": [
    "def r_count(x):\n",
    "    return [x[y].count() for y in x.columns if x[y] is not None]"
   ]
  },
  {
   "cell_type": "code",
   "execution_count": 153,
   "metadata": {},
   "outputs": [],
   "source": [
    "def r_unique_count(x):\n",
    "    return [x[y].nunique() for y in x.columns if x[y] is not None]\n",
    "\n",
    "def r_unique_percent (x):\n",
    "    unique_percent = []\n",
    "    [unique_percent.append(f\"{int((x2 / x1)*100)}%\") for x1, x2 in zip(r_count(x), r_unique_count(x))]\n",
    "    return unique_percent"
   ]
  },
  {
   "cell_type": "code",
   "execution_count": 154,
   "metadata": {},
   "outputs": [],
   "source": [
    "def r_empty(x):\n",
    "    return [x[y].eq(' ').sum() for y in x.columns if x[y] is not None]\n",
    "\n",
    "def empty_percent (x):\n",
    "    empty_percent = []\n",
    "    [empty_percent.append(f\"{int((x2 / x1)*100)}%\") for x1, x2 in zip(r_count(x), r_empty(x))]\n",
    "    return empty_percent"
   ]
  },
  {
   "cell_type": "code",
   "execution_count": 155,
   "metadata": {},
   "outputs": [],
   "source": [
    "def r_cero(x):\n",
    "    return [x[y].eq(' ').eq('0').sum() for y in x.columns if x[y] is not None]\n",
    "\n",
    "def r_cero_percent (x):\n",
    "    cero_percent = []\n",
    "    [cero_percent.append(f\"{int((x2 / x1)*100)}%\") for x1, x2 in zip(r_count(x), r_cero(x))]\n",
    "    return cero_percent"
   ]
  },
  {
   "cell_type": "code",
   "execution_count": 156,
   "metadata": {},
   "outputs": [],
   "source": [
    "def is_numeric(x):\n",
    "    column_list = x.columns\n",
    "    result_list = []\n",
    "\n",
    "    for y in column_list:\n",
    "        try:\n",
    "            is_numeric = pd.to_numeric(x[y], errors='coerce')  # Utiliza 'coerce' para convertir a NaN si no es numérico\n",
    "            is_numeric = is_numeric.notnull().all()  # Verifica si todos los valores de la columna son numéricos\n",
    "            result_list.append(is_numeric)  # Agrega el resultado a la lista\n",
    "        except ValueError:\n",
    "            result_list.append(False)  # Si hay un error, marca la columna como no numérica\n",
    "\n",
    "    return result_list  # Devuelve la lista con valores True o False por columna"
   ]
  },
  {
   "cell_type": "code",
   "execution_count": 157,
   "metadata": {},
   "outputs": [],
   "source": [
    "def is_letter(x):\n",
    "    return [x[y].astype(str).apply(lambda x: x.replace(\" \", \"\").isalpha()).all() for y in x.columns if x[y] is not None]"
   ]
  },
  {
   "cell_type": "code",
   "execution_count": null,
   "metadata": {},
   "outputs": [],
   "source": [
    "def is_null(x):\n",
    "    return [x[y].isnull().sum() for y in x.columns if x[y] is not None]\n",
    "\n",
    "def is_null_percent (x):\n",
    "    null_percent = []\n",
    "    [null_percent.append(f\"{int((x2 / x1)*100)}%\") for x1, x2 in zip(r_count(x), is_null(x))]\n",
    "    return null_percent"
   ]
  },
  {
   "cell_type": "code",
   "execution_count": 162,
   "metadata": {},
   "outputs": [],
   "source": [
    "#Identifica aquellos campos con valores booleanos. Se considera booleano si tiene solo 2 datos distintos. Puede tener valores vacios, null o en cero.\n",
    "\n",
    "def is_bool(x):\n",
    "    column_list = x.columns\n",
    "    unique_list = []\n",
    "    boolean_list = []    \n",
    "    for y in column_list:\n",
    "        column_data = x[y]\n",
    "        if column_data is not None:\n",
    "            unique_list.append(column_data.nunique())\n",
    "\n",
    "    for x in unique_list:\n",
    "        if x == 2:\n",
    "           boolean_list.append(True)         \n",
    "        else: \n",
    "           boolean_list.append(False)\n",
    "\n",
    "    return boolean_list"
   ]
  }
 ],
 "metadata": {
  "kernelspec": {
   "display_name": "Python 3",
   "language": "python",
   "name": "python3"
  },
  "language_info": {
   "codemirror_mode": {
    "name": "ipython",
    "version": 3
   },
   "file_extension": ".py",
   "mimetype": "text/x-python",
   "name": "python",
   "nbconvert_exporter": "python",
   "pygments_lexer": "ipython3",
   "version": "3.12.3"
  }
 },
 "nbformat": 4,
 "nbformat_minor": 2
}
