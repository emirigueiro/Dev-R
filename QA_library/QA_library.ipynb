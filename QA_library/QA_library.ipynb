{
 "cells": [
  {
   "cell_type": "markdown",
   "metadata": {},
   "source": [
    "# Objetivo: Recibiendo como entrada un BBDD se realiza un analisis para comprender su integridad.\n",
    "# Entrada: DataFrame\n",
    "# Salida: analisis descriptivo/cuantitavo sobre la integridad de la datos.\n",
    "# Aspectos a evaluar: \n",
    "                     a) Valores vacios: 0, null, NaN.\n",
    "                     b) Tipos de datos: Q de tipos de datos distintos en una misma columna \n",
    "                     c) Cantidad de datos por columna \n",
    "                     "
   ]
  },
  {
   "cell_type": "code",
   "execution_count": 96,
   "metadata": {},
   "outputs": [],
   "source": [
    "import pandas as pd\n",
    "import os as os\n",
    "import numpy as np\n",
    "import re\n",
    "from dateutil import parser"
   ]
  },
  {
   "cell_type": "code",
   "execution_count": 97,
   "metadata": {},
   "outputs": [],
   "source": [
    "# Lectura del CSV y guardado en una variable\n",
    "def READ_CSV(x):\n",
    "    return pd.read_csv(x, sep=\",\", encoding='latin-1')\n",
    "\n",
    "FILE = READ_CSV('base-primer-relev-dispositivos.csv')\n",
    "\n",
    "# Guardo los emails en una sola colimna de un DF\n",
    "FILE_DF = pd.DataFrame()\n",
    "# FILE_DF[0] = FILE\n",
    "\n",
    "# Paso la columna con los email del DF a una lista\n",
    "# email_list = []\n",
    "# email_list = FILE_DF[0].values.tolist()\n"
   ]
  },
  {
   "cell_type": "code",
   "execution_count": 98,
   "metadata": {},
   "outputs": [
    {
     "data": {
      "text/plain": [
       "1798"
      ]
     },
     "execution_count": 98,
     "metadata": {},
     "output_type": "execute_result"
    }
   ],
   "source": [
    "FILE.shape[0]"
   ]
  },
  {
   "cell_type": "code",
   "execution_count": 99,
   "metadata": {},
   "outputs": [],
   "source": [
    "def volumen (x):\n",
    "    volumn = pd.DataFrame(columns=['Count'])\n",
    "    volumn.loc['Filas'] = x.shape[0]\n",
    "    volumn.loc['Columnas'] = x.shape[1]\n",
    "    return volumn"
   ]
  },
  {
   "cell_type": "code",
   "execution_count": 100,
   "metadata": {},
   "outputs": [],
   "source": [
    "def column_list (x):\n",
    "    columns_list = []\n",
    "    columns_list = x.columns\n",
    "    return columns_list"
   ]
  },
  {
   "cell_type": "code",
   "execution_count": 101,
   "metadata": {},
   "outputs": [],
   "source": [
    "def count_list (x):\n",
    "    column_list = x.columns\n",
    "    count_list = []\n",
    "    for y in column_list:\n",
    "        column_data = x[y]\n",
    "        if column_data is not None:\n",
    "            count_list.append(column_data.count())\n",
    "\n",
    "    return count_list"
   ]
  },
  {
   "cell_type": "code",
   "execution_count": 102,
   "metadata": {},
   "outputs": [],
   "source": [
    "def unique_list (x):\n",
    "    column_list = x.columns\n",
    "    unique_list = []\n",
    "    for y in column_list:\n",
    "        column_data = x[y]\n",
    "        if column_data is not None:\n",
    "            unique_list.append(column_data.nunique())\n",
    "\n",
    "    return unique_list"
   ]
  },
  {
   "cell_type": "code",
   "execution_count": 103,
   "metadata": {},
   "outputs": [],
   "source": [
    "def empty_list (x):\n",
    "    column_list = x.columns\n",
    "    empty_list = []\n",
    "    for y in column_list:\n",
    "        column_data = x[y]\n",
    "        if column_data is not None:\n",
    "            empty_list.append(column_data.eq(' ').sum())\n",
    "\n",
    "    return empty_list"
   ]
  },
  {
   "cell_type": "code",
   "execution_count": 104,
   "metadata": {},
   "outputs": [],
   "source": [
    "def cero_list (x):\n",
    "    column_list = x.columns\n",
    "    cero_list = []\n",
    "    for y in column_list:\n",
    "        column_data = x[y]\n",
    "        if column_data is not None:\n",
    "            cero_list.append(column_data.eq('0').sum())\n",
    "\n",
    "    return cero_list"
   ]
  },
  {
   "cell_type": "code",
   "execution_count": 105,
   "metadata": {},
   "outputs": [],
   "source": [
    "def unique_values_list (x):\n",
    "    column_list = x.columns\n",
    "    unique_values = []\n",
    "    for y in column_list:\n",
    "        column_data = x[y]\n",
    "        if column_data is not None:\n",
    "            unique_values.append(column_data.unique().tolist())\n",
    "\n",
    "    return unique_values"
   ]
  },
  {
   "cell_type": "code",
   "execution_count": 106,
   "metadata": {},
   "outputs": [],
   "source": [
    "def numeric_list(x):\n",
    "    column_list = x.columns\n",
    "    result_list = []\n",
    "\n",
    "    for y in column_list:\n",
    "        try:\n",
    "            is_numeric = pd.to_numeric(x[y], errors='coerce')  # Utiliza 'coerce' para convertir a NaN si no es numérico\n",
    "            is_numeric = is_numeric.notnull().all()  # Verifica si todos los valores de la columna son numéricos\n",
    "            result_list.append(is_numeric)  # Agrega el resultado a la lista\n",
    "        except ValueError:\n",
    "            result_list.append(False)  # Si hay un error, marca la columna como no numérica\n",
    "\n",
    "    return result_list  # Devuelve la lista con valores True o False por columna\n",
    "\n"
   ]
  },
  {
   "cell_type": "code",
   "execution_count": 107,
   "metadata": {},
   "outputs": [],
   "source": [
    "def letter_list (x):\n",
    "    column_list = x.columns\n",
    "    letter_list = []\n",
    "    for y in column_list:\n",
    "        column_data = x[y]\n",
    "        if column_data is not None:\n",
    "            letter_list.append(column_data.astype(str).apply(lambda x: x.replace(\" \", \"\").isalpha()).all())\n",
    "\n",
    "    return letter_list"
   ]
  },
  {
   "cell_type": "code",
   "execution_count": 108,
   "metadata": {},
   "outputs": [],
   "source": [
    "def null_list (x):\n",
    "    column_list = x.columns\n",
    "    null_list = []\n",
    "    for y in column_list:\n",
    "        column_data = x[y]\n",
    "        if column_data is not None:\n",
    "            null_list.append(column_data.isnull().sum())\n",
    "\n",
    "    return null_list"
   ]
  },
  {
   "cell_type": "code",
   "execution_count": 109,
   "metadata": {},
   "outputs": [],
   "source": [
    "\n",
    "def id_list(x):\n",
    "    patron = re.compile(r\"id\", re.IGNORECASE)  \n",
    "    column_list = x.columns\n",
    "    resultados = []\n",
    "    for elemento in column_list:\n",
    "        if re.search(patron, str(elemento)):\n",
    "            resultados.append(True)\n",
    "        else:\n",
    "            resultados.append(False)\n",
    "    return resultados\n"
   ]
  },
  {
   "cell_type": "code",
   "execution_count": 110,
   "metadata": {},
   "outputs": [],
   "source": [
    "#Recorro todas las filas de todas las columnas y si encuentra un @ en al menos una fila, marca esa columna con True.\n",
    "\n",
    "def email_list (x):\n",
    "    column_list = x.columns\n",
    "    patron = re.compile(r\"@\", re.IGNORECASE)\n",
    "    resultados = []\n",
    "    for y in column_list:\n",
    "        column_data = x[y]\n",
    "        if re.search(patron, str(column_data)): \n",
    "           resultados.append(True)\n",
    "        else:\n",
    "            resultados.append(False)\n",
    "    return resultados"
   ]
  },
  {
   "cell_type": "code",
   "execution_count": 111,
   "metadata": {},
   "outputs": [
    {
     "name": "stdout",
     "output_type": "stream",
     "text": [
      "          Count\n",
      "Filas      1798\n",
      "Columnas    230\n",
      "Index(['respondent_id', 'q0011', 'q0021', 'q0022', 'q0023_0001', 'q0023_0002',\n",
      "       'q0023_0003', 'q0023_0004', 'q0023_0005', 'q0023_0006',\n",
      "       ...\n",
      "       'q0072_0018', 'q0073', 'q0075_0001', 'q0075_0002', 'q0075_0003',\n",
      "       'q0075_0004', 'q0075_0005', 'q0075_0006', 'q0075_0007', 'q0075_0008'],\n",
      "      dtype='object', length=230)\n",
      "[0, 0, 0, 0, 1285, 1680, 858, 1579, 1615, 1709, 1686, 1702, 1448, 391, 1437, 718, 0, 0, 113, 113, 113, 552, 248, 431, 185, 439, 532, 1305, 1709, 1798, 1094, 515, 97, 161, 505, 878, 685, 1235, 728, 898, 777, 738, 738, 582, 476, 995, 588, 1514, 981, 791, 844, 529, 1363, 328, 1521, 1009, 735, 770, 917, 672, 1415, 1635, 585, 734, 784, 721, 1075, 1005, 672, 1135, 1600, 1724, 1583, 1137, 676, 1257, 903, 1430, 545, 1197, 1099, 1509, 1245, 1227, 979, 1334, 834, 561, 1037, 1705, 1446, 1180, 1674, 1502, 1669, 1681, 1750, 1613, 719, 1763, 1622, 1707, 1223, 450, 1442, 1103, 1201, 1267, 1340, 1350, 1439, 1211, 1511, 122, 122, 122, 122, 122, 122, 122, 122, 122, 122, 122, 122, 122, 122, 122, 122, 122, 122, 122, 122, 122, 122, 122, 122, 122, 1495, 1495, 1502, 1502, 1503, 428, 755, 848, 1052, 1087, 1443, 697, 1436, 398, 1674, 301, 1464, 1652, 1057, 1711, 1463, 1204, 1755, 1766, 1702, 1608, 1481, 1655, 1549, 1301, 1571, 1436, 1711, 1000, 1424, 1732, 1537, 1745, 1776, 1761, 1650, 298, 424, 612, 1586, 1026, 1527, 1636, 1437, 1213, 1682, 449, 478, 718, 875, 1074, 840, 1439, 1261, 1387, 1338, 908, 1165, 1336, 1681, 1613, 1116, 1363, 1129, 1280, 1356, 1596, 1631, 1529, 1406, 1596, 1431, 1340, 1652, 1638, 1444, 1393, 1684, 310, 1715, 1668, 1697, 1659, 1625, 1710, 961, 1564]\n",
      "[0, 0, 0, 0, 0, 0, 0, 0, 0, 0, 0, 0, 0, 0, 0, 0, 0, 0, 0, 0, 0, 0, 0, 0, 0, 0, 0, 0, 0, 0, 0, 0, 0, 0, 0, 0, 0, 0, 0, 0, 0, 0, 0, 0, 0, 0, 0, 0, 0, 0, 0, 0, 0, 0, 0, 0, 0, 0, 0, 0, 0, 0, 0, 0, 0, 0, 0, 0, 0, 0, 0, 0, 0, 0, 0, 0, 0, 0, 0, 0, 0, 0, 0, 0, 0, 0, 0, 0, 0, 0, 0, 0, 0, 0, 0, 0, 0, 0, 0, 0, 0, 0, 0, 0, 0, 0, 0, 0, 0, 0, 0, 0, 0, 1201, 1111, 1577, 1663, 1648, 98, 463, 1159, 1502, 1356, 1463, 1055, 1374, 1297, 810, 597, 1469, 1046, 1232, 1209, 1465, 1497, 1603, 1256, 0, 25, 0, 0, 0, 0, 0, 0, 0, 0, 0, 0, 0, 0, 0, 0, 0, 0, 0, 0, 0, 0, 0, 0, 0, 0, 0, 0, 0, 0, 0, 0, 0, 0, 0, 0, 0, 0, 0, 0, 0, 0, 0, 0, 0, 0, 0, 0, 0, 0, 0, 0, 0, 0, 0, 0, 0, 0, 0, 0, 0, 0, 0, 0, 0, 0, 0, 0, 0, 0, 0, 0, 0, 0, 0, 0, 0, 0, 0, 0, 0, 0, 0, 0, 0, 0, 0, 0, 0, 0, 0, 0, 0]\n",
      "[0, 0, 0, 0, 0, 0, 0, 0, 0, 0, 0, 0, 0, 0, 0, 0, 0, 0, 0, 0, 0, 0, 0, 0, 0, 0, 0, 0, 0, 0, 0, 0, 0, 0, 0, 0, 0, 0, 0, 0, 0, 0, 0, 0, 0, 0, 0, 0, 0, 0, 0, 0, 0, 0, 0, 0, 0, 0, 0, 0, 0, 0, 0, 0, 0, 0, 0, 0, 0, 0, 0, 0, 0, 0, 0, 0, 0, 0, 0, 0, 0, 0, 0, 0, 0, 0, 0, 0, 0, 0, 0, 0, 0, 0, 0, 0, 0, 0, 0, 0, 0, 0, 0, 0, 0, 0, 0, 0, 0, 0, 0, 0, 0, 0, 0, 0, 0, 0, 0, 0, 0, 0, 0, 0, 0, 0, 0, 0, 0, 0, 0, 0, 0, 0, 0, 0, 0, 0, 0, 0, 0, 0, 0, 0, 0, 0, 0, 0, 0, 0, 0, 0, 0, 0, 0, 0, 0, 0, 0, 0, 0, 0, 0, 0, 0, 0, 0, 0, 0, 0, 0, 0, 0, 0, 0, 0, 0, 0, 0, 0, 0, 0, 0, 0, 0, 0, 0, 0, 0, 0, 0, 0, 0, 0, 0, 0, 0, 0, 0, 0, 0, 0, 0, 0, 0, 0, 0, 0, 0, 0, 0, 0, 0, 0, 0, 0, 0, 0, 0, 0, 0, 0, 0, 0, 0, 0, 0, 0, 0, 0]\n",
      "[1798, 1798, 1798, 1798, 1798, 1798, 1798, 1798, 1798, 1798, 1798, 1798, 1798, 1798, 1798, 1798, 1798, 1798, 1798, 1798, 1798, 1798, 1798, 1798, 1798, 1798, 1798, 1798, 1798, 1798, 1798, 1798, 1798, 1798, 1798, 1798, 1798, 1798, 1798, 1798, 1798, 1798, 1798, 1798, 1798, 1798, 1798, 1798, 1798, 1798, 1798, 1798, 1798, 1798, 1798, 1798, 1798, 1798, 1798, 1798, 1798, 1798, 1798, 1798, 1798, 1798, 1798, 1798, 1798, 1798, 1798, 1798, 1798, 1798, 1798, 1798, 1798, 1798, 1798, 1798, 1798, 1798, 1798, 1798, 1798, 1798, 1798, 1798, 1798, 1798, 1798, 1798, 1798, 1798, 1798, 1798, 1798, 1798, 1798, 1798, 1798, 1798, 1798, 1798, 1798, 1798, 1798, 1798, 1798, 1798, 1798, 1798, 1798, 1798, 1798, 1798, 1798, 1798, 1798, 1798, 1798, 1798, 1798, 1798, 1798, 1798, 1798, 1798, 1798, 1798, 1798, 1798, 1798, 1798, 1798, 1798, 1798, 1798, 1798, 1798, 1798, 1798, 1798, 1798, 1798, 1798, 1798, 1798, 1798, 1798, 1798, 1798, 1798, 1798, 1798, 1798, 1798, 1798, 1798, 1798, 1798, 1798, 1798, 1798, 1798, 1798, 1798, 1798, 1798, 1798, 1798, 1798, 1798, 1798, 1798, 1798, 1798, 1798, 1798, 1798, 1798, 1798, 1798, 1798, 1798, 1798, 1798, 1798, 1798, 1798, 1798, 1798, 1798, 1798, 1798, 1798, 1798, 1798, 1798, 1798, 1798, 1798, 1798, 1798, 1798, 1798, 1798, 1798, 1798, 1798, 1798, 1798, 1798, 1798, 1798, 1798, 1798, 1798, 1798, 1798, 1798, 1798, 1798, 1798, 1798, 1798, 1798, 1798, 1798, 1798]\n",
      "[1798, 24, 3, 7, 2, 2, 2, 2, 2, 2, 2, 2, 2, 2, 2, 2, 24, 3, 6, 4, 4, 4, 2, 2, 2, 2, 2, 2, 2, 1, 2, 2, 2, 2, 2, 2, 2, 2, 2, 2, 2, 2, 2, 2, 2, 2, 2, 2, 2, 2, 2, 2, 2, 2, 2, 2, 2, 2, 2, 2, 2, 2, 2, 2, 2, 2, 2, 2, 2, 2, 2, 2, 2, 2, 2, 2, 2, 2, 2, 2, 2, 2, 2, 2, 2, 2, 2, 2, 2, 2, 2, 2, 2, 2, 2, 2, 2, 2, 2, 2, 2, 2, 2, 2, 2, 2, 2, 2, 2, 2, 2, 2, 2, 16, 18, 7, 6, 5, 23, 18, 22, 9, 8, 11, 21, 17, 16, 21, 20, 16, 17, 19, 17, 12, 16, 12, 15, 3, 52, 4, 3, 3, 3, 2, 2, 2, 2, 2, 2, 2, 2, 2, 2, 4, 2, 2, 2, 2, 2, 2, 2, 2, 2, 2, 2, 2, 2, 2, 2, 2, 2, 2, 2, 2, 2, 2, 2, 2, 2, 3, 3, 2, 2, 2, 2, 2, 2, 2, 2, 6, 2, 2, 2, 2, 2, 2, 2, 2, 2, 2, 2, 2, 2, 2, 2, 2, 2, 2, 2, 2, 2, 2, 2, 2, 2, 2, 2, 2, 2, 2, 2, 5, 2, 2, 2, 2, 2, 2, 2, 2]\n",
      "[False, True, True, False, False, False, False, False, False, False, False, False, False, False, False, False, False, False, False, False, False, False, False, False, False, False, False, False, False, False, False, False, False, False, False, False, False, False, False, False, False, False, False, False, False, False, False, False, False, False, False, False, False, False, False, False, False, False, False, False, False, False, False, False, False, False, False, False, False, False, False, False, False, False, False, False, False, False, False, False, False, False, False, False, False, False, False, False, False, False, False, False, False, False, False, False, False, False, False, False, False, False, False, False, False, False, False, False, False, False, False, False, False, False, False, False, False, False, False, False, False, False, False, False, False, False, False, False, False, False, False, False, False, False, False, False, False, False, False, False, False, False, False, False, False, False, False, False, False, False, False, False, False, False, False, False, False, False, False, False, False, False, False, False, False, False, False, False, False, False, False, False, False, False, False, False, False, False, False, False, False, False, False, False, False, False, False, False, False, False, False, False, False, False, False, False, False, False, False, False, False, False, False, False, False, False, False, False, False, False, False, False, False, False, False, False, False, False, False, False, False, False, False, False, False, False, False, False, False, False]\n",
      "[False, False, False, False, False, False, False, False, False, False, False, False, False, False, False, False, False, False, False, False, False, False, False, False, False, False, False, False, False, False, False, False, False, False, False, False, False, False, False, False, False, False, False, False, False, False, False, False, False, False, False, False, False, False, False, False, False, False, False, False, False, False, False, False, False, False, False, False, False, False, False, False, False, False, False, False, False, False, False, False, False, False, False, False, False, False, False, False, False, False, False, False, False, False, False, False, False, False, False, False, False, False, False, False, False, False, False, False, False, False, False, False, False, False, False, False, False, False, False, False, False, False, False, False, False, False, False, False, False, False, False, False, False, False, False, False, False, False, False, False, False, False, False, False, False, False, False, False, False, False, False, False, False, False, False, False, False, False, False, False, False, False, False, False, False, False, False, False, False, False, False, False, False, False, False, False, False, False, False, False, False, False, False, False, False, False, False, False, False, False, False, False, False, False, False, False, False, False, False, False, False, False, False, False, False, False, False, False, False, False, False, False, False, False, False, False, False, False, False, False, False, False, False, False, False, False, False, False, False, False]\n"
     ]
    }
   ],
   "source": [
    "print(volumen(FILE))\n",
    "print(column_list(FILE))\n",
    "print(empty_list(FILE))\n",
    "print(cero_list(FILE))\n",
    "print(null_list(FILE))\n",
    "print(count_list(FILE))\n",
    "print(unique_list(FILE))\n",
    "print(letter_list (FILE))\n",
    "print(email_list (FILE))\n"
   ]
  },
  {
   "cell_type": "code",
   "execution_count": 112,
   "metadata": {},
   "outputs": [
    {
     "name": "stdout",
     "output_type": "stream",
     "text": [
      "          columnas  count  numeric  letter  id_re  email_re  unique  vacios  \\\n",
      "0    respondent_id   1798     True   False   True     False    1798       0   \n",
      "1            q0011   1798    False    True  False     False      24       0   \n",
      "2            q0021   1798    False    True  False     False       3       0   \n",
      "3            q0022   1798    False   False  False     False       7       0   \n",
      "4       q0023_0001   1798    False   False  False     False       2    1285   \n",
      "..             ...    ...      ...     ...    ...       ...     ...     ...   \n",
      "225     q0075_0004   1798    False   False  False     False       2    1659   \n",
      "226     q0075_0005   1798    False   False  False     False       2    1625   \n",
      "227     q0075_0006   1798    False   False  False     False       2    1710   \n",
      "228     q0075_0007   1798    False   False  False     False       2     961   \n",
      "229     q0075_0008   1798    False   False  False     False       2    1564   \n",
      "\n",
      "     cero  null  \n",
      "0       0     0  \n",
      "1       0     0  \n",
      "2       0     0  \n",
      "3       0     0  \n",
      "4       0     0  \n",
      "..    ...   ...  \n",
      "225     0     0  \n",
      "226     0     0  \n",
      "227     0     0  \n",
      "228     0     0  \n",
      "229     0     0  \n",
      "\n",
      "[230 rows x 10 columns]\n"
     ]
    }
   ],
   "source": [
    "resumen = pd.DataFrame(columns=['columnas'])\n",
    "resumen['columnas'] = pd.Series(column_list(FILE))\n",
    "resumen['count'] = pd.Series(count_list(FILE))\n",
    "resumen['numeric'] = pd.Series(numeric_list(FILE))\n",
    "resumen['letter'] = pd.Series(letter_list(FILE))\n",
    "resumen['id_re'] = pd.Series(id_list(FILE))\n",
    "resumen['email_re'] = pd.Series(email_list(FILE))\n",
    "resumen['unique'] = pd.Series(unique_list(FILE))\n",
    "resumen['vacios'] = pd.Series(empty_list(FILE))\n",
    "resumen['cero'] = pd.Series(cero_list(FILE))\n",
    "resumen['null'] = pd.Series(null_list(FILE))\n",
    "# resumen['unique_value_list'] = pd.Series(unique_values_list(FILE))\n",
    "print(resumen)\n"
   ]
  },
  {
   "cell_type": "code",
   "execution_count": null,
   "metadata": {},
   "outputs": [],
   "source": [
    "# Cuenta la cantidad de filas que contienen al menos un @"
   ]
  },
  {
   "cell_type": "code",
   "execution_count": null,
   "metadata": {},
   "outputs": [],
   "source": [
    "# Identifica si es un campo ID: count true, id true, unique = count"
   ]
  },
  {
   "cell_type": "code",
   "execution_count": null,
   "metadata": {},
   "outputs": [],
   "source": [
    "#Registros duplicados"
   ]
  }
 ],
 "metadata": {
  "kernelspec": {
   "display_name": "Python 3",
   "language": "python",
   "name": "python3"
  },
  "language_info": {
   "codemirror_mode": {
    "name": "ipython",
    "version": 3
   },
   "file_extension": ".py",
   "mimetype": "text/x-python",
   "name": "python",
   "nbconvert_exporter": "python",
   "pygments_lexer": "ipython3",
   "version": "3.11.3"
  }
 },
 "nbformat": 4,
 "nbformat_minor": 2
}
