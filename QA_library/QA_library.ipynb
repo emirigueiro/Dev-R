{
 "cells": [
  {
   "cell_type": "markdown",
   "metadata": {},
   "source": [
    "# Objetivo: Recibiendo como entrada un BBDD se realiza un analisis para comprender su integridad.\n",
    "# Entrada: DataFrame\n",
    "# Salida: analisis descriptivo/cuantitavo sobre la integridad de la datos.\n",
    "# Aspectos a evaluar: \n",
    "                     a) Valores Null\n",
    "                     b) Tipos de datos: Q de tipos de datos distintos en una misma columna \n",
    "                     c) Cantidad de datos por columna \n",
    "                     "
   ]
  },
  {
   "cell_type": "code",
   "execution_count": 288,
   "metadata": {},
   "outputs": [],
   "source": [
    "import pandas as pd\n",
    "import os as os\n",
    "import numpy as np"
   ]
  },
  {
   "cell_type": "code",
   "execution_count": 289,
   "metadata": {},
   "outputs": [],
   "source": [
    "# Lectura del CSV y guardado en una variable\n",
    "def READ_CSV(x):\n",
    "    return pd.read_csv(x, sep=\",\", encoding='latin-1')\n",
    "\n",
    "FILE = READ_CSV('base-primer-relev-dispositivos.csv')\n",
    "\n",
    "# Guardo los emails en una sola colimna de un DF\n",
    "FILE_DF = pd.DataFrame()\n",
    "# FILE_DF[0] = FILE\n",
    "\n",
    "# Paso la columna con los email del DF a una lista\n",
    "# email_list = []\n",
    "# email_list = FILE_DF[0].values.tolist()\n"
   ]
  },
  {
   "cell_type": "code",
   "execution_count": 290,
   "metadata": {},
   "outputs": [
    {
     "data": {
      "text/plain": [
       "1798"
      ]
     },
     "execution_count": 290,
     "metadata": {},
     "output_type": "execute_result"
    }
   ],
   "source": [
    "FILE.shape[0]"
   ]
  },
  {
   "cell_type": "code",
   "execution_count": 291,
   "metadata": {},
   "outputs": [],
   "source": [
    "def volumen (x):\n",
    "    volumn = pd.DataFrame(columns=['Count'])\n",
    "    volumn.loc['Filas'] = x.shape[0]\n",
    "    volumn.loc['Columnas'] = x.shape[1]\n",
    "    return volumn"
   ]
  },
  {
   "cell_type": "code",
   "execution_count": 292,
   "metadata": {},
   "outputs": [],
   "source": [
    "def column (x):\n",
    "    column = pd.DataFrame()\n",
    "    column['Filas'] = x.columns\n",
    "    return column"
   ]
  },
  {
   "cell_type": "code",
   "execution_count": 293,
   "metadata": {},
   "outputs": [
    {
     "name": "stdout",
     "output_type": "stream",
     "text": [
      "          Count\n",
      "Filas      1798\n",
      "Columnas    230\n"
     ]
    }
   ],
   "source": [
    "print(volumen(FILE))\n"
   ]
  },
  {
   "cell_type": "code",
   "execution_count": 294,
   "metadata": {},
   "outputs": [
    {
     "name": "stdout",
     "output_type": "stream",
     "text": [
      "             Filas\n",
      "0    respondent_id\n",
      "1            q0011\n",
      "2            q0021\n",
      "3            q0022\n",
      "4       q0023_0001\n",
      "..             ...\n",
      "225     q0075_0004\n",
      "226     q0075_0005\n",
      "227     q0075_0006\n",
      "228     q0075_0007\n",
      "229     q0075_0008\n",
      "\n",
      "[230 rows x 1 columns]\n"
     ]
    }
   ],
   "source": [
    "print(column (FILE))"
   ]
  },
  {
   "cell_type": "code",
   "execution_count": 295,
   "metadata": {},
   "outputs": [
    {
     "ename": "AttributeError",
     "evalue": "'str' object has no attribute 'value_counts'",
     "output_type": "error",
     "traceback": [
      "\u001b[1;31m---------------------------------------------------------------------------\u001b[0m",
      "\u001b[1;31mAttributeError\u001b[0m                            Traceback (most recent call last)",
      "\u001b[1;32mc:\\Users\\Emi\\Documents\\GitHub\\Dev-R\\QA_library\\QA_library.ipynb Cell 9\u001b[0m line \u001b[0;36m5\n\u001b[0;32m      <a href='vscode-notebook-cell:/c%3A/Users/Emi/Documents/GitHub/Dev-R/QA_library/QA_library.ipynb#W6sZmlsZQ%3D%3D?line=2'>3</a>\u001b[0m \u001b[39mfor\u001b[39;00m x \u001b[39min\u001b[39;00m columns_list:\n\u001b[0;32m      <a href='vscode-notebook-cell:/c%3A/Users/Emi/Documents/GitHub/Dev-R/QA_library/QA_library.ipynb#W6sZmlsZQ%3D%3D?line=3'>4</a>\u001b[0m     \u001b[39mif\u001b[39;00m x \u001b[39m!=\u001b[39m \u001b[39m'\u001b[39m\u001b[39m'\u001b[39m:\n\u001b[1;32m----> <a href='vscode-notebook-cell:/c%3A/Users/Emi/Documents/GitHub/Dev-R/QA_library/QA_library.ipynb#W6sZmlsZQ%3D%3D?line=4'>5</a>\u001b[0m      \u001b[39mprint\u001b[39m(x\u001b[39m.\u001b[39;49mvalue_counts()) \n",
      "\u001b[1;31mAttributeError\u001b[0m: 'str' object has no attribute 'value_counts'"
     ]
    }
   ],
   "source": [
    "columns_list = FILE.columns\n",
    "\n",
    "for x in columns_list:\n",
    "    if x != '':\n",
    "     print(x.value_counts()) \n"
   ]
  }
 ],
 "metadata": {
  "kernelspec": {
   "display_name": "Python 3",
   "language": "python",
   "name": "python3"
  },
  "language_info": {
   "codemirror_mode": {
    "name": "ipython",
    "version": 3
   },
   "file_extension": ".py",
   "mimetype": "text/x-python",
   "name": "python",
   "nbconvert_exporter": "python",
   "pygments_lexer": "ipython3",
   "version": "3.11.3"
  }
 },
 "nbformat": 4,
 "nbformat_minor": 2
}
